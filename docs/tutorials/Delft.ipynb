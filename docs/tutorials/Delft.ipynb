{
 "cells": [
  {
   "cell_type": "code",
   "execution_count": 1,
   "id": "91deb491-0b48-4640-b952-9fd60ca2f42a",
   "metadata": {},
   "outputs": [],
   "source": [
    "import os, sys # add MaaSSim to path (not needed if MaaSSim is already in path)\n",
    "module_path = os.path.abspath(os.path.join('../..'))\n",
    "if module_path not in sys.path:\n",
    "    sys.path.append(module_path)\n",
    "import MaaSSim"
   ]
  },
  {
   "cell_type": "code",
   "execution_count": 2,
   "id": "07bd48a6-9dc0-410c-9ffa-5574671bb0e0",
   "metadata": {},
   "outputs": [],
   "source": [
    "#!pip install MaaSSim\n",
    "import MaaSSim.utils\n",
    "import logging\n",
    "from dotmap import DotMap\n",
    "import MaaSSim.simulators\n",
    "from MaaSSim.data_structures import structures as inData\n",
    "from MaaSSim.acceptance import f_decline, f_decline_R50\n",
    "from MaaSSim.acceptance import RA_kpi_veh, RA_kpi_pax"
   ]
  },
  {
   "cell_type": "code",
   "execution_count": 3,
   "id": "95683809-8a03-449e-b7ff-31cd23dce13a",
   "metadata": {},
   "outputs": [],
   "source": [
    "import osmnx as ox\n",
    "import networkx as nx\n",
    "import random\n",
    "import pandas as pd\n",
    "import matplotlib.pyplot as plt          \n",
    "import numpy as np\n",
    "import seaborn as sns"
   ]
  },
  {
   "cell_type": "code",
   "execution_count": 4,
   "id": "1d71e8b6-6f1d-4102-97c7-0ea69262d22a",
   "metadata": {},
   "outputs": [],
   "source": [
    "%load_ext autoreload\n",
    "%autoreload 2"
   ]
  },
  {
   "cell_type": "code",
   "execution_count": 22,
   "id": "790b79fe-7c40-4bcb-ae77-4b8da801f74d",
   "metadata": {},
   "outputs": [],
   "source": [
    "# Do not forget to set the radius for centeral nodes calculation\n",
    "# The minimum trip distance is considered 1000m and this can be modified through utils.py: generate_demand function. \n",
    "# long attribute should be calculated according to the size of city\n",
    "# Platform fare is 2$ per km\n",
    "\n",
    "params = MaaSSim.utils.get_config('glance.json')\n",
    "params.vehicle_fixed_positions = True\n",
    "params.times.patience = 600 #in second\n",
    "params.dist_threshold = 10000 #in meter\n",
    "params.dist_threshold_min = 1000\n",
    "params.city = \"Delft, Netherlands\"\n",
    "params.paths.G = \"../../data/graphs/Delft.graphml\"\n",
    "params.paths.skim = \"../../data/graphs/Delft.csv\"\n",
    "\n",
    "params.d2d.fuel_cost = 0.25 #euro/km\n",
    "params.platforms.comm_rate = 0.25\n",
    "params.platforms.base_fare = 2\n",
    "params.platforms.fare = 1.2 \n",
    "params.platforms.min_fare = 2\n",
    "params.speeds.ride=10\n",
    "params.times.decline=20\n",
    "params.assert_me = False\n",
    "\n",
    "params.nP = 20\n",
    "params.nV = 2\n",
    "params.simTime = 1"
   ]
  },
  {
   "cell_type": "code",
   "execution_count": 23,
   "id": "018f1f55-574f-41ac-8c63-f31960d4d66b",
   "metadata": {
    "tags": []
   },
   "outputs": [
    {
     "name": "stdout",
     "output_type": "stream",
     "text": [
      "09-06-22 21:13:27-WARNING-Setting up 1h simulation at 2022-06-09 20:45:57 for 2 vehicles and 20 passengers in Delft, Netherlands\n",
      "09-06-22 21:13:28-INFO--------------------\tStarting simulation\t-------------------\n",
      "09-06-22 21:13:28-INFO-pax    0  got to dest at                           2022-06-09 20:54:49\n",
      "09-06-22 21:13:28-INFO-pax    2  has no offers                            2022-06-09 21:03:09\n",
      "09-06-22 21:13:28-INFO-pax    2  lost his patience and left the system    2022-06-09 21:03:09\n",
      "09-06-22 21:13:28-INFO-pax    3  got to dest at                           2022-06-09 21:03:30\n",
      "09-06-22 21:13:28-INFO-pax    1  got to dest at                           2022-06-09 21:09:07\n",
      "09-06-22 21:13:28-INFO-pax    4  got to dest at                           2022-06-09 21:15:30\n",
      "09-06-22 21:13:28-INFO-pax    7  got to dest at                           2022-06-09 21:20:15\n",
      "09-06-22 21:13:28-INFO-pax    5  got to dest at                           2022-06-09 21:20:35\n",
      "09-06-22 21:13:28-INFO-pax    9  got to dest at                           2022-06-09 21:25:55\n",
      "09-06-22 21:13:28-WARNING-pax   10  got rejected by vehicle 1                2022-06-09 21:27:02\n",
      "09-06-22 21:13:28-INFO-pax    6  got to dest at                           2022-06-09 21:27:02\n",
      "09-06-22 21:13:28-WARNING-Nobody likes each other, Qs 1veh; 1req; tabu 2\n",
      "09-06-22 21:13:28-INFO-pax   10  has no offers                            2022-06-09 21:30:51\n",
      "09-06-22 21:13:29-WARNING-pax   14  got rejected by vehicle 1                2022-06-09 21:35:47\n",
      "09-06-22 21:13:29-INFO-pax   11  got to dest at                           2022-06-09 21:35:47\n",
      "09-06-22 21:13:29-INFO-pax    8  got to dest at                           2022-06-09 21:37:10\n",
      "09-06-22 21:13:29-INFO-pax   14  has no offers                            2022-06-09 21:43:29\n",
      "09-06-22 21:13:29-INFO-pax   12  got to dest at                           2022-06-09 21:43:46\n",
      "09-06-22 21:13:29-INFO-pax   13  got to dest at                           2022-06-09 21:44:14\n",
      "09-06-22 21:13:29-INFO-pax   15  has no offers                            2022-06-09 21:48:30\n",
      "09-06-22 21:13:29-INFO-pax   15  lost his patience and left the system    2022-06-09 21:48:30\n",
      "09-06-22 21:13:29-INFO-pax   17  got to dest at                           2022-06-09 21:49:21\n",
      "09-06-22 21:13:29-INFO-pax   16  has no offers                            2022-06-09 21:50:31\n",
      "09-06-22 21:13:29-INFO-pax   16  lost his patience and left the system    2022-06-09 21:50:31\n",
      "09-06-22 21:13:29-INFO-pax   18  got to dest at                           2022-06-09 21:52:43\n",
      "09-06-22 21:13:29-INFO-pax   19  got to dest at                           2022-06-09 21:53:56\n",
      "09-06-22 21:13:29-INFO-veh    1  quitted shift                            2022-06-09 23:45:56\n",
      "09-06-22 21:13:29-INFO-veh    2  quitted shift                            2022-06-09 23:45:56\n",
      "09-06-22 21:13:29-INFO--------------------\tSimulation over\t\t-------------------\n",
      "09-06-22 21:13:29-INFO-queue of requests 0\n",
      "09-06-22 21:13:29-WARNING-simulation time 1.3 s\n"
     ]
    }
   ],
   "source": [
    "sim = MaaSSim.simulators.simulate(params=params, f_driver_decline=f_decline, kpi_veh=RA_kpi_veh, kpi_pax=RA_kpi_pax)"
   ]
  },
  {
   "cell_type": "code",
   "execution_count": 27,
   "id": "9af5b491-321a-4367-8063-7af921fd4753",
   "metadata": {},
   "outputs": [
    {
     "data": {
      "text/html": [
       "<div>\n",
       "<style scoped>\n",
       "    .dataframe tbody tr th:only-of-type {\n",
       "        vertical-align: middle;\n",
       "    }\n",
       "\n",
       "    .dataframe tbody tr th {\n",
       "        vertical-align: top;\n",
       "    }\n",
       "\n",
       "    .dataframe thead th {\n",
       "        text-align: right;\n",
       "    }\n",
       "</style>\n",
       "<table border=\"1\" class=\"dataframe\">\n",
       "  <thead>\n",
       "    <tr style=\"text-align: right;\">\n",
       "      <th></th>\n",
       "      <th>fare</th>\n",
       "      <th>name</th>\n",
       "      <th>batch_time</th>\n",
       "      <th>base_fare</th>\n",
       "      <th>min_fare</th>\n",
       "      <th>profit</th>\n",
       "    </tr>\n",
       "  </thead>\n",
       "  <tbody>\n",
       "    <tr>\n",
       "      <th>1</th>\n",
       "      <td>1.2</td>\n",
       "      <td>NaN</td>\n",
       "      <td>NaN</td>\n",
       "      <td>2</td>\n",
       "      <td>2</td>\n",
       "      <td>18.879</td>\n",
       "    </tr>\n",
       "  </tbody>\n",
       "</table>\n",
       "</div>"
      ],
      "text/plain": [
       "   fare  name  batch_time  base_fare  min_fare  profit\n",
       "1   1.2   NaN         NaN          2         2  18.879"
      ]
     },
     "execution_count": 27,
     "metadata": {},
     "output_type": "execute_result"
    }
   ],
   "source": [
    "sim.res[0].platform"
   ]
  },
  {
   "cell_type": "code",
   "execution_count": null,
   "id": "c114ccbe-a93e-49b3-9125-5b0ca70ec0d0",
   "metadata": {},
   "outputs": [],
   "source": []
  }
 ],
 "metadata": {
  "kernelspec": {
   "display_name": "Python 3 (ipykernel)",
   "language": "python",
   "name": "python3"
  },
  "language_info": {
   "codemirror_mode": {
    "name": "ipython",
    "version": 3
   },
   "file_extension": ".py",
   "mimetype": "text/x-python",
   "name": "python",
   "nbconvert_exporter": "python",
   "pygments_lexer": "ipython3",
   "version": "3.9.7"
  }
 },
 "nbformat": 4,
 "nbformat_minor": 5
}
