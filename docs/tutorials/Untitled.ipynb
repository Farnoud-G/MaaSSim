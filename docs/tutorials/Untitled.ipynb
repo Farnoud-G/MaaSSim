{
 "cells": [
  {
   "cell_type": "code",
   "execution_count": 3,
   "id": "a1470fca-cc1c-4321-8b19-c51cff912940",
   "metadata": {},
   "outputs": [],
   "source": [
    "import osmnx"
   ]
  },
  {
   "cell_type": "code",
   "execution_count": null,
   "id": "0b3d5fc3-9d8f-4ae1-b217-8e971493cbfb",
   "metadata": {},
   "outputs": [],
   "source": []
  }
 ],
 "metadata": {
  "kernelspec": {
   "display_name": "Python 3 (ipykernel)",
   "language": "python",
   "name": "python3"
  },
  "language_info": {
   "codemirror_mode": {
    "name": "ipython",
    "version": 3
   },
   "file_extension": ".py",
   "mimetype": "text/x-python",
   "name": "python",
   "nbconvert_exporter": "python",
   "pygments_lexer": "ipython3",
   "version": "3.9.7"
  }
 },
 "nbformat": 4,
 "nbformat_minor": 5
}
