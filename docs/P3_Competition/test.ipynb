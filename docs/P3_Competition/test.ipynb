{
 "cells": [
  {
   "cell_type": "code",
   "execution_count": 1,
   "id": "933ba3f1-2991-493c-bd51-39a607247023",
   "metadata": {},
   "outputs": [],
   "source": [
    "import os, sys\n",
    "module_path = os.path.abspath(os.path.join('../..'))\n",
    "if module_path not in sys.path:\n",
    "    sys.path.append(module_path)\n",
    "import MaaSSim"
   ]
  },
  {
   "cell_type": "code",
   "execution_count": 2,
   "id": "b163fb3f-568b-45fa-bad7-c0faf716f0ba",
   "metadata": {},
   "outputs": [],
   "source": [
    "%load_ext autoreload\n",
    "%autoreload 2"
   ]
  },
  {
   "cell_type": "code",
   "execution_count": 3,
   "id": "a12020ca-deaf-4b67-a78f-b1f148c8d815",
   "metadata": {
    "tags": []
   },
   "outputs": [],
   "source": [
    "#!pip install MaaSSim\n",
    "import MaaSSim.utils\n",
    "import logging\n",
    "from dotmap import DotMap\n",
    "import MaaSSim.simulators\n",
    "from MaaSSim.data_structures import structures as inData\n",
    "from MaaSSim.day_to_day import S_driver_opt_out_TS, S_traveller_opt_out_TS\n",
    "from MaaSSim.day_to_day import d2d_kpi_veh, d2d_kpi_pax"
   ]
  },
  {
   "cell_type": "code",
   "execution_count": 4,
   "id": "700327b3-e15a-45e7-8030-1448fa4b75cf",
   "metadata": {
    "tags": []
   },
   "outputs": [],
   "source": [
    "import osmnx as ox\n",
    "import networkx as nx\n",
    "import random\n",
    "import math\n",
    "import pandas as pd\n",
    "import matplotlib.pyplot as plt          \n",
    "import numpy as np\n",
    "import seaborn as sns\n",
    "from statsmodels.tsa.stattools import adfuller"
   ]
  },
  {
   "cell_type": "code",
   "execution_count": 5,
   "id": "b61ca5ff-b68f-4f33-a169-4ad805a29f0b",
   "metadata": {
    "tags": []
   },
   "outputs": [],
   "source": [
    "params = MaaSSim.utils.get_config('glance.json')\n",
    "params.city = \"Amsterdam, Netherlands\"\n",
    "params.paths.G = \"../../data/graphs/Amsterdam.graphml\"\n",
    "params.paths.skim = \"../../data/graphs/Amsterdam.csv\"\n",
    "params.vehicle_fixed_positions = True\n",
    "params.times.patience = 600 #second\n",
    "params.dist_threshold = 20000 #meter\n",
    "params.dist_threshold_min = 3000 #meter\n",
    "\n",
    "params.d2d.probabilistic = True\n",
    "params.d2d.heterogeneous = False\n",
    "params.d2d.B_income = 1\n",
    "params.d2d.fuel_cost = 0.25 #euro/km\n",
    "\n",
    "params.d2d.B_inveh_time = 1\n",
    "params.d2d.B_exp_time = 2 #1.5 in oded's paper\n",
    "params.PT_fare = 1 ## euro\n",
    "params.PT_avg_speed = 6\n",
    "\n",
    "params.nPM = 2 # number of platforms. platform id starts from 1\n",
    "params.platforms.base_fare = 1.4 #euro\n",
    "params.platforms.fare = float(1.20) #euro/km\n",
    "params.platforms.min_fare = float(2) # euro\n",
    "params.platforms.comm_rate = float(0.20)\n",
    "params.platforms.discount = float(0.0)\n",
    "params.platforms.daily_marketing = True\n",
    "\n",
    "params.d2d.learning_d = 1 \n",
    "params.d2d.B_Experience = 0.80\n",
    "params.d2d.B_WOM = 0.20\n",
    "params.d2d.B_Marketing = 0.0\n",
    "params.d2d.diffusion_speed = 10/100 # speed for M is twice greater than WOM.\n",
    "params.d2d.m = 5\n",
    "params.d2d.mn = 100/12 # for NL\n",
    "params.d2d.ini_att = 0.01\n",
    "params.d2d.Eini_att = 0.01\n",
    "params.d2d.adj_s = 2\n",
    "params.VoT = 10.63 # value of time per hour\n",
    "params.assert_me = False\n",
    "params.seed = 1\n",
    "params.paths.requests = 'Amsterdam_requests.csv'\n",
    "params.simTime = 4\n",
    "params.d2d.res_wage = params.simTime*10.63 #euro"
   ]
  },
  {
   "cell_type": "code",
   "execution_count": 11,
   "id": "ebc2c0ea-fe7f-434d-933d-d7eddb212270",
   "metadata": {},
   "outputs": [],
   "source": [
    "params.threshold_u = 0.005\n",
    "params.max_revenue = 4000 # maximum revenue with the initial fare\n",
    "params.alpha = 0.8\n",
    "params.initial_capital = 50000\n",
    "params.expense_per_day = 500\n",
    "params.random_ini_position = False\n",
    "params.step_size = 0.2 # euro/km\n",
    "params.min_fare, params.max_fare  = 0.0, 3.0\n",
    "params.initial_fares = (1.0,1.0)\n",
    "\n",
    "params.nD = 2#1000\n",
    "params.turnover_interval = 2#50 #---------------------------------\n",
    "params.nP = 2000\n",
    "params.nV = 200"
   ]
  },
  {
   "cell_type": "code",
   "execution_count": 12,
   "id": "96b7b516-39d4-4b55-b1fd-0cc43121d88b",
   "metadata": {
    "tags": []
   },
   "outputs": [
    {
     "name": "stdout",
     "output_type": "stream",
     "text": [
      "This simulation uses albatros data\n",
      "29-12-24 11:30:43-WARNING-Setting up 4h simulation at 2024-12-29 09:29:58 for 200 vehicles and 2000 passengers in Amsterdam, Netherlands\n",
      "============ P1 TURN ============\n",
      "29-12-24 11:30:58-WARNING-simulation time 4.9 s\n",
      "Day =  0 --- on the Left cell with fare 0.8\n",
      "(np1,vp1) =  (0, 0)     (np2,vp2) =  (0, 0)\n",
      "--------------------------------------------\n",
      "29-12-24 11:31:15-WARNING-simulation time 6.4 s\n",
      "Day =  1 --- on the Left cell with fare 0.8\n",
      "(np1,vp1) =  (9, 2)     (np2,vp2) =  (20, 1)\n",
      "--------------------------------------------\n",
      "--------------------------------------------\n",
      "P1:  (0.8, 0.00321272, 0.0022034000000000003, 0.0072499999999999995)\n",
      "29-12-24 11:31:31-WARNING-simulation time 4.1 s\n",
      "Day =  0 --- on the Middle cell with fare 1.0\n",
      "(np1,vp1) =  (0, 0)     (np2,vp2) =  (0, 0)\n",
      "--------------------------------------------\n",
      "29-12-24 11:31:45-WARNING-simulation time 5.3 s\n",
      "Day =  1 --- on the Middle cell with fare 1.0\n",
      "(np1,vp1) =  (17, 3)     (np2,vp2) =  (12, 4)\n",
      "--------------------------------------------\n",
      "--------------------------------------------\n",
      "P1:  (1.0, 0.007165, 0.006018750000000001, 0.01175)\n",
      "29-12-24 11:31:59-WARNING-simulation time 4.7 s\n",
      "Day =  0 --- on the Right cell with fare 1.2\n",
      "(np1,vp1) =  (0, 0)     (np2,vp2) =  (0, 0)\n",
      "--------------------------------------------\n",
      "29-12-24 11:32:14-WARNING-simulation time 5.7 s\n",
      "Day =  1 --- on the Right cell with fare 1.2\n",
      "(np1,vp1) =  (17, 2)     (np2,vp2) =  (18, 2)\n",
      "--------------------------------------------\n",
      "--------------------------------------------\n",
      "P1:  (1.2, 0.006052656000000001, 0.0052533200000000006, 0.009250000000000001)\n",
      "available moves =  [(0.00321272, 0.8), (0.007165, 1.0), (0.006052656000000001, 1.2)]\n",
      "P1 fare = 1.0,   P2 fare = 1.0\n"
     ]
    }
   ],
   "source": [
    "sim = MaaSSim.simulators.Try_and_Select(params=params, f_driver_out=S_driver_opt_out_TS,f_trav_out=S_traveller_opt_out_TS,\n",
    "                                  kpi_veh=d2d_kpi_veh,kpi_pax=d2d_kpi_pax, logger_level=logging.WARNING)"
   ]
  },
  {
   "cell_type": "code",
   "execution_count": null,
   "id": "ee1c21c4-f7fc-419d-8ff6-b664c80ed531",
   "metadata": {},
   "outputs": [],
   "source": []
  },
  {
   "cell_type": "code",
   "execution_count": 14,
   "id": "74fedd5f-6d4e-4e6b-ad9f-7d3b52fb229b",
   "metadata": {},
   "outputs": [
    {
     "data": {
      "text/html": [
       "<div>\n",
       "<style scoped>\n",
       "    .dataframe tbody tr th:only-of-type {\n",
       "        vertical-align: middle;\n",
       "    }\n",
       "\n",
       "    .dataframe tbody tr th {\n",
       "        vertical-align: top;\n",
       "    }\n",
       "\n",
       "    .dataframe thead th {\n",
       "        text-align: right;\n",
       "    }\n",
       "</style>\n",
       "<table border=\"1\" class=\"dataframe\">\n",
       "  <thead>\n",
       "    <tr style=\"text-align: right;\">\n",
       "      <th></th>\n",
       "      <th>fare</th>\n",
       "      <th>revenue</th>\n",
       "      <th>profit</th>\n",
       "      <th>nP</th>\n",
       "      <th>nV</th>\n",
       "      <th>min_wage_sub</th>\n",
       "      <th>remaining_capital</th>\n",
       "      <th>P_market_share</th>\n",
       "      <th>V_market_share</th>\n",
       "      <th>market_share</th>\n",
       "    </tr>\n",
       "    <tr>\n",
       "      <th>platform_id</th>\n",
       "      <th></th>\n",
       "      <th></th>\n",
       "      <th></th>\n",
       "      <th></th>\n",
       "      <th></th>\n",
       "      <th></th>\n",
       "      <th></th>\n",
       "      <th></th>\n",
       "      <th></th>\n",
       "      <th></th>\n",
       "    </tr>\n",
       "  </thead>\n",
       "  <tbody>\n",
       "    <tr>\n",
       "      <th>1</th>\n",
       "      <td>1.0</td>\n",
       "      <td>24.075</td>\n",
       "      <td>-552.064</td>\n",
       "      <td>17</td>\n",
       "      <td>3</td>\n",
       "      <td>76.1390</td>\n",
       "      <td>48947.936</td>\n",
       "      <td>0.0085</td>\n",
       "      <td>0.015</td>\n",
       "      <td>0.01175</td>\n",
       "    </tr>\n",
       "    <tr>\n",
       "      <th>2</th>\n",
       "      <td>1.0</td>\n",
       "      <td>16.1418</td>\n",
       "      <td>-613.4887</td>\n",
       "      <td>12</td>\n",
       "      <td>4</td>\n",
       "      <td>129.6305</td>\n",
       "      <td>48886.5113</td>\n",
       "      <td>0.006</td>\n",
       "      <td>0.02</td>\n",
       "      <td>0.013</td>\n",
       "    </tr>\n",
       "  </tbody>\n",
       "</table>\n",
       "</div>"
      ],
      "text/plain": [
       "            fare  revenue    profit  nP nV  min_wage_sub remaining_capital  \\\n",
       "platform_id                                                                  \n",
       "1            1.0   24.075  -552.064  17  3       76.1390         48947.936   \n",
       "2            1.0  16.1418 -613.4887  12  4      129.6305        48886.5113   \n",
       "\n",
       "            P_market_share V_market_share market_share  \n",
       "platform_id                                             \n",
       "1                   0.0085          0.015      0.01175  \n",
       "2                    0.006           0.02        0.013  "
      ]
     },
     "execution_count": 38,
     "metadata": {},
     "output_type": "execute_result"
    }
   ],
   "source": [
    "sim.res[1].plat_exp"
   ]
  },
  {
   "cell_type": "code",
   "execution_count": 51,
   "id": "f0ad679f-578d-4d9a-88ca-43399259da5d",
   "metadata": {},
   "outputs": [
    {
     "data": {
      "text/plain": [
       "40.4495"
      ]
     },
     "execution_count": 51,
     "metadata": {},
     "output_type": "execute_result"
    }
   ],
   "source": [
    "df = sim.res[1].veh_exp\n",
    "\n",
    "sum(df[df.platform_id==2].REVENUE-df[df.platform_id==2].COST)"
   ]
  },
  {
   "cell_type": "code",
   "execution_count": 52,
   "id": "cac73e0d-70ae-4277-9bf9-7c93f2d2ad15",
   "metadata": {},
   "outputs": [
    {
     "data": {
      "text/plain": [
       "16.128"
      ]
     },
     "execution_count": 52,
     "metadata": {},
     "output_type": "execute_result"
    }
   ],
   "source": [
    "(sum(df[df.platform_id==2].REVENUE)*(100/80)*0.2) -"
   ]
  },
  {
   "cell_type": "code",
   "execution_count": 57,
   "id": "3995f96f-cfdb-45c8-8197-0a06f516c0a2",
   "metadata": {},
   "outputs": [
    {
     "data": {
      "text/plain": [
       "veh\n",
       "60     42.52\n",
       "126    42.52\n",
       "128    42.52\n",
       "138    42.52\n",
       "153    42.52\n",
       "174    42.52\n",
       "180    42.52\n",
       "Name: ACTUAL_INC, dtype: float64"
      ]
     },
     "execution_count": 57,
     "metadata": {},
     "output_type": "execute_result"
    }
   ],
   "source": [
    "veh = sim.res[1].veh_exp\n",
    "veh[veh.ACTUAL_INC>0].ACTUAL_INC"
   ]
  },
  {
   "cell_type": "code",
   "execution_count": 58,
   "id": "4d463541-ebce-48b9-bc9e-db6490145bb0",
   "metadata": {},
   "outputs": [
    {
     "data": {
      "text/plain": [
       "42.52"
      ]
     },
     "execution_count": 58,
     "metadata": {},
     "output_type": "execute_result"
    }
   ],
   "source": [
    "params.d2d.res_wage"
   ]
  },
  {
   "cell_type": "code",
   "execution_count": 23,
   "id": "75d9c7d6-75d2-4714-a240-57f81869cc28",
   "metadata": {},
   "outputs": [
    {
     "data": {
      "text/plain": [
       "76.13900000000001"
      ]
     },
     "execution_count": 23,
     "metadata": {},
     "output_type": "execute_result"
    }
   ],
   "source": [
    "sum(df[df.platform_id==1].MIN_WAGE_SUB)"
   ]
  },
  {
   "cell_type": "code",
   "execution_count": null,
   "id": "1255f7c9-ef6b-403c-ba1b-2ceab0bb7160",
   "metadata": {},
   "outputs": [
    {
     "data": {
      "text/plain": [
       "56.887800000000006"
      ]
     },
     "execution_count": 29,
     "metadata": {},
     "output_type": "execute_result"
    }
   ],
   "source": []
  },
  {
   "cell_type": "code",
   "execution_count": null,
   "id": "3afb9fb0-c406-438b-817a-1922c2576846",
   "metadata": {},
   "outputs": [],
   "source": []
  },
  {
   "cell_type": "code",
   "execution_count": null,
   "id": "f4c25edb-0133-4d09-95e3-f5b3e41e2e6f",
   "metadata": {},
   "outputs": [
    {
     "data": {
      "text/plain": [
       "pax\n",
       "12      2.4700\n",
       "46      1.2000\n",
       "87      1.3324\n",
       "175     1.1120\n",
       "237     0.0000\n",
       "578     2.2264\n",
       "598     1.0952\n",
       "623     2.3686\n",
       "642     2.0064\n",
       "683     3.0794\n",
       "945     1.1612\n",
       "996     1.2166\n",
       "1065    1.0910\n",
       "1111    0.8880\n",
       "1128    0.8936\n",
       "1614    0.9610\n",
       "1636    0.9732\n",
       "Name: plat_revenue, dtype: float64"
      ]
     },
     "execution_count": 33,
     "metadata": {},
     "output_type": "execute_result"
    }
   ],
   "source": []
  },
  {
   "cell_type": "code",
   "execution_count": null,
   "id": "638bec5f-0042-421b-aaf4-bd0013fd64c1",
   "metadata": {},
   "outputs": [
    {
     "data": {
      "text/html": [
       "<div>\n",
       "<style scoped>\n",
       "    .dataframe tbody tr th:only-of-type {\n",
       "        vertical-align: middle;\n",
       "    }\n",
       "\n",
       "    .dataframe tbody tr th {\n",
       "        vertical-align: top;\n",
       "    }\n",
       "\n",
       "    .dataframe thead th {\n",
       "        text-align: right;\n",
       "    }\n",
       "</style>\n",
       "<table border=\"1\" class=\"dataframe\">\n",
       "  <thead>\n",
       "    <tr style=\"text-align: right;\">\n",
       "      <th></th>\n",
       "      <th>veh</th>\n",
       "      <th>pos</th>\n",
       "      <th>t</th>\n",
       "      <th>event</th>\n",
       "      <th>paxes</th>\n",
       "    </tr>\n",
       "  </thead>\n",
       "  <tbody>\n",
       "    <tr>\n",
       "      <th>0</th>\n",
       "      <td>138</td>\n",
       "      <td>46391478.0</td>\n",
       "      <td>0</td>\n",
       "      <td>STARTS_DAY</td>\n",
       "      <td>[]</td>\n",
       "    </tr>\n",
       "    <tr>\n",
       "      <th>1</th>\n",
       "      <td>138</td>\n",
       "      <td>46391478.0</td>\n",
       "      <td>0</td>\n",
       "      <td>DECIDES_NOT_TO_DRIVE</td>\n",
       "      <td>[]</td>\n",
       "    </tr>\n",
       "  </tbody>\n",
       "</table>\n",
       "</div>"
      ],
      "text/plain": [
       "   veh         pos  t                 event paxes\n",
       "0  138  46391478.0  0            STARTS_DAY    []\n",
       "1  138  46391478.0  0  DECIDES_NOT_TO_DRIVE    []"
      ]
     },
     "execution_count": 37,
     "metadata": {},
     "output_type": "execute_result"
    }
   ],
   "source": []
  }
 ],
 "metadata": {
  "kernelspec": {
   "display_name": "Python 3 (ipykernel)",
   "language": "python",
   "name": "python3"
  },
  "language_info": {
   "codemirror_mode": {
    "name": "ipython",
    "version": 3
   },
   "file_extension": ".py",
   "mimetype": "text/x-python",
   "name": "python",
   "nbconvert_exporter": "python",
   "pygments_lexer": "ipython3",
   "version": "3.9.7"
  }
 },
 "nbformat": 4,
 "nbformat_minor": 5
}
