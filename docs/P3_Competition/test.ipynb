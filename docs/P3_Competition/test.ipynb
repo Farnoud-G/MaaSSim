{
 "cells": [
  {
   "cell_type": "code",
   "execution_count": 1,
   "id": "933ba3f1-2991-493c-bd51-39a607247023",
   "metadata": {},
   "outputs": [],
   "source": [
    "import os, sys\n",
    "module_path = os.path.abspath(os.path.join('../..'))\n",
    "if module_path not in sys.path:\n",
    "    sys.path.append(module_path)\n",
    "import MaaSSim"
   ]
  },
  {
   "cell_type": "code",
   "execution_count": 2,
   "id": "b163fb3f-568b-45fa-bad7-c0faf716f0ba",
   "metadata": {},
   "outputs": [],
   "source": [
    "%load_ext autoreload\n",
    "%autoreload 2"
   ]
  },
  {
   "cell_type": "code",
   "execution_count": 3,
   "id": "a12020ca-deaf-4b67-a78f-b1f148c8d815",
   "metadata": {
    "tags": []
   },
   "outputs": [],
   "source": [
    "#!pip install MaaSSim\n",
    "import MaaSSim.utils\n",
    "import logging\n",
    "from dotmap import DotMap\n",
    "import MaaSSim.simulators\n",
    "from MaaSSim.data_structures import structures as inData\n",
    "from MaaSSim.day_to_day import S_driver_opt_out_TS, S_traveller_opt_out_TS\n",
    "from MaaSSim.day_to_day import d2d_kpi_veh, d2d_kpi_pax"
   ]
  },
  {
   "cell_type": "code",
   "execution_count": 4,
   "id": "700327b3-e15a-45e7-8030-1448fa4b75cf",
   "metadata": {
    "tags": []
   },
   "outputs": [],
   "source": [
    "import osmnx as ox\n",
    "import networkx as nx\n",
    "import random\n",
    "import math\n",
    "import pandas as pd\n",
    "import matplotlib.pyplot as plt          \n",
    "import numpy as np\n",
    "import seaborn as sns\n",
    "from statsmodels.tsa.stattools import adfuller"
   ]
  },
  {
   "cell_type": "code",
   "execution_count": 5,
   "id": "b61ca5ff-b68f-4f33-a169-4ad805a29f0b",
   "metadata": {
    "tags": []
   },
   "outputs": [],
   "source": [
    "params = MaaSSim.utils.get_config('glance.json')\n",
    "params.city = \"Amsterdam, Netherlands\"\n",
    "params.paths.G = \"../../data/graphs/Amsterdam.graphml\"\n",
    "params.paths.skim = \"../../data/graphs/Amsterdam.csv\"\n",
    "params.vehicle_fixed_positions = True\n",
    "params.times.patience = 600 #second\n",
    "params.dist_threshold = 20000 #meter\n",
    "params.dist_threshold_min = 3000 #meter\n",
    "\n",
    "params.d2d.probabilistic = True\n",
    "params.d2d.heterogeneous = False\n",
    "params.d2d.B_income = 1\n",
    "params.d2d.fuel_cost = 0.25 #euro/km\n",
    "\n",
    "params.d2d.B_inveh_time = 1\n",
    "params.d2d.B_exp_time = 2 #1.5 in oded's paper\n",
    "params.PT_fare = 1 ## euro\n",
    "params.PT_avg_speed = 6\n",
    "\n",
    "params.nPM = 2 # number of platforms. platform id starts from 1\n",
    "params.platforms.base_fare = 1.4 #euro\n",
    "params.platforms.fare = float(1.20) #euro/km\n",
    "params.platforms.min_fare = float(2) # euro\n",
    "params.platforms.comm_rate = float(0.20)\n",
    "params.platforms.discount = float(0.0)\n",
    "params.platforms.daily_marketing = True\n",
    "\n",
    "params.d2d.learning_d = 1 \n",
    "params.d2d.B_Experience = 0.80\n",
    "params.d2d.B_WOM = 0.20\n",
    "params.d2d.B_Marketing = 0.0\n",
    "params.d2d.diffusion_speed = 10/100 # speed for M is twice greater than WOM.\n",
    "params.d2d.m = 5\n",
    "params.d2d.mn = 100/12 # for NL\n",
    "params.d2d.ini_att = 0.01\n",
    "params.d2d.Eini_att = 0.01\n",
    "params.d2d.adj_s = 2\n",
    "params.VoT = 10.63 # value of time per hour\n",
    "params.assert_me = False\n",
    "params.seed = 1\n",
    "params.paths.requests = 'Amsterdam_requests.csv'\n",
    "params.simTime = 4\n",
    "params.d2d.res_wage = params.simTime*10.63 #euro"
   ]
  },
  {
   "cell_type": "code",
   "execution_count": 11,
   "id": "ebc2c0ea-fe7f-434d-933d-d7eddb212270",
   "metadata": {},
   "outputs": [],
   "source": [
    "params.threshold_u = 0.005\n",
    "params.max_revenue = 4000 # maximum revenue with the initial fare\n",
    "params.alpha = 0.8\n",
    "params.initial_capital = 50000\n",
    "params.expense_per_day = 500\n",
    "params.random_ini_position = False\n",
    "params.step_size = 0.2 # euro/km\n",
    "params.min_fare, params.max_fare  = 0.0, 3.0\n",
    "params.initial_fares = (1.0,1.0)\n",
    "\n",
    "params.nD = 2#1000\n",
    "params.turnover_interval = 2#50 #---------------------------------\n",
    "params.nP = 2000\n",
    "params.nV = 200"
   ]
  },
  {
   "cell_type": "code",
   "execution_count": 12,
   "id": "96b7b516-39d4-4b55-b1fd-0cc43121d88b",
   "metadata": {
    "tags": []
   },
   "outputs": [
    {
     "name": "stdout",
     "output_type": "stream",
     "text": [
      "This simulation uses albatros data\n",
      "29-12-24 11:30:43-WARNING-Setting up 4h simulation at 2024-12-29 09:29:58 for 200 vehicles and 2000 passengers in Amsterdam, Netherlands\n",
      "============ P1 TURN ============\n",
      "29-12-24 11:30:58-WARNING-simulation time 4.9 s\n",
      "Day =  0 --- on the Left cell with fare 0.8\n",
      "(np1,vp1) =  (0, 0)     (np2,vp2) =  (0, 0)\n",
      "--------------------------------------------\n",
      "29-12-24 11:31:15-WARNING-simulation time 6.4 s\n",
      "Day =  1 --- on the Left cell with fare 0.8\n",
      "(np1,vp1) =  (9, 2)     (np2,vp2) =  (20, 1)\n",
      "--------------------------------------------\n",
      "--------------------------------------------\n",
      "P1:  (0.8, 0.00321272, 0.0022034000000000003, 0.0072499999999999995)\n",
      "29-12-24 11:31:31-WARNING-simulation time 4.1 s\n",
      "Day =  0 --- on the Middle cell with fare 1.0\n",
      "(np1,vp1) =  (0, 0)     (np2,vp2) =  (0, 0)\n",
      "--------------------------------------------\n",
      "29-12-24 11:31:45-WARNING-simulation time 5.3 s\n",
      "Day =  1 --- on the Middle cell with fare 1.0\n",
      "(np1,vp1) =  (17, 3)     (np2,vp2) =  (12, 4)\n",
      "--------------------------------------------\n",
      "--------------------------------------------\n",
      "P1:  (1.0, 0.007165, 0.006018750000000001, 0.01175)\n",
      "29-12-24 11:31:59-WARNING-simulation time 4.7 s\n",
      "Day =  0 --- on the Right cell with fare 1.2\n",
      "(np1,vp1) =  (0, 0)     (np2,vp2) =  (0, 0)\n",
      "--------------------------------------------\n",
      "29-12-24 11:32:14-WARNING-simulation time 5.7 s\n",
      "Day =  1 --- on the Right cell with fare 1.2\n",
      "(np1,vp1) =  (17, 2)     (np2,vp2) =  (18, 2)\n",
      "--------------------------------------------\n",
      "--------------------------------------------\n",
      "P1:  (1.2, 0.006052656000000001, 0.0052533200000000006, 0.009250000000000001)\n",
      "available moves =  [(0.00321272, 0.8), (0.007165, 1.0), (0.006052656000000001, 1.2)]\n",
      "P1 fare = 1.0,   P2 fare = 1.0\n"
     ]
    }
   ],
   "source": [
    "sim = MaaSSim.simulators.Try_and_Select(params=params, f_driver_out=S_driver_opt_out_TS,f_trav_out=S_traveller_opt_out_TS,\n",
    "                                  kpi_veh=d2d_kpi_veh,kpi_pax=d2d_kpi_pax, logger_level=logging.WARNING)"
   ]
  },
  {
   "cell_type": "code",
   "execution_count": null,
   "id": "ee1c21c4-f7fc-419d-8ff6-b664c80ed531",
   "metadata": {},
   "outputs": [],
   "source": []
  },
  {
   "cell_type": "code",
   "execution_count": 14,
   "id": "74fedd5f-6d4e-4e6b-ad9f-7d3b52fb229b",
   "metadata": {},
   "outputs": [
    {
     "data": {
      "text/html": [
       "<div>\n",
       "<style scoped>\n",
       "    .dataframe tbody tr th:only-of-type {\n",
       "        vertical-align: middle;\n",
       "    }\n",
       "\n",
       "    .dataframe tbody tr th {\n",
       "        vertical-align: top;\n",
       "    }\n",
       "\n",
       "    .dataframe thead th {\n",
       "        text-align: right;\n",
       "    }\n",
       "</style>\n",
       "<table border=\"1\" class=\"dataframe\">\n",
       "  <thead>\n",
       "    <tr style=\"text-align: right;\">\n",
       "      <th></th>\n",
       "      <th>fare</th>\n",
       "      <th>revenue</th>\n",
       "      <th>profit</th>\n",
       "      <th>nP</th>\n",
       "      <th>nV</th>\n",
       "      <th>min_wage_sub</th>\n",
       "      <th>remaining_capital</th>\n",
       "      <th>P_market_share</th>\n",
       "      <th>V_market_share</th>\n",
       "      <th>market_share</th>\n",
       "    </tr>\n",
       "    <tr>\n",
       "      <th>platform_id</th>\n",
       "      <th></th>\n",
       "      <th></th>\n",
       "      <th></th>\n",
       "      <th></th>\n",
       "      <th></th>\n",
       "      <th></th>\n",
       "      <th></th>\n",
       "      <th></th>\n",
       "      <th></th>\n",
       "      <th></th>\n",
       "    </tr>\n",
       "  </thead>\n",
       "  <tbody>\n",
       "    <tr>\n",
       "      <th>1</th>\n",
       "      <td>1.0</td>\n",
       "      <td>24.075</td>\n",
       "      <td>-552.064</td>\n",
       "      <td>17</td>\n",
       "      <td>3</td>\n",
       "      <td>76.1390</td>\n",
       "      <td>48947.936</td>\n",
       "      <td>0.0085</td>\n",
       "      <td>0.015</td>\n",
       "      <td>0.01175</td>\n",
       "    </tr>\n",
       "    <tr>\n",
       "      <th>2</th>\n",
       "      <td>1.0</td>\n",
       "      <td>16.1418</td>\n",
       "      <td>-613.4887</td>\n",
       "      <td>12</td>\n",
       "      <td>4</td>\n",
       "      <td>129.6305</td>\n",
       "      <td>48886.5113</td>\n",
       "      <td>0.006</td>\n",
       "      <td>0.02</td>\n",
       "      <td>0.013</td>\n",
       "    </tr>\n",
       "  </tbody>\n",
       "</table>\n",
       "</div>"
      ],
      "text/plain": [
       "            fare  revenue    profit  nP nV  min_wage_sub remaining_capital  \\\n",
       "platform_id                                                                  \n",
       "1            1.0   24.075  -552.064  17  3       76.1390         48947.936   \n",
       "2            1.0  16.1418 -613.4887  12  4      129.6305        48886.5113   \n",
       "\n",
       "            P_market_share V_market_share market_share  \n",
       "platform_id                                             \n",
       "1                   0.0085          0.015      0.01175  \n",
       "2                    0.006           0.02        0.013  "
      ]
     },
     "execution_count": 38,
     "metadata": {},
     "output_type": "execute_result"
    }
   ],
   "source": [
    "sim.res[1].plat_exp"
   ]
  },
  {
   "cell_type": "code",
   "execution_count": 51,
   "id": "f0ad679f-578d-4d9a-88ca-43399259da5d",
   "metadata": {},
   "outputs": [
    {
     "data": {
      "text/plain": [
       "40.4495"
      ]
     },
     "execution_count": 51,
     "metadata": {},
     "output_type": "execute_result"
    }
   ],
   "source": [
    "df = sim.res[1].veh_exp\n",
    "\n",
    "sum(df[df.platform_id==2].REVENUE-df[df.platform_id==2].COST)"
   ]
  },
  {
   "cell_type": "code",
   "execution_count": 52,
   "id": "cac73e0d-70ae-4277-9bf9-7c93f2d2ad15",
   "metadata": {},
   "outputs": [
    {
     "data": {
      "text/plain": [
       "16.128"
      ]
     },
     "execution_count": 52,
     "metadata": {},
     "output_type": "execute_result"
    }
   ],
   "source": [
    "(sum(df[df.platform_id==2].REVENUE)*(100/80)*0.2) -"
   ]
  },
  {
   "cell_type": "code",
   "execution_count": 57,
   "id": "3995f96f-cfdb-45c8-8197-0a06f516c0a2",
   "metadata": {},
   "outputs": [
    {
     "data": {
      "text/plain": [
       "veh\n",
       "60     42.52\n",
       "126    42.52\n",
       "128    42.52\n",
       "138    42.52\n",
       "153    42.52\n",
       "174    42.52\n",
       "180    42.52\n",
       "Name: ACTUAL_INC, dtype: float64"
      ]
     },
     "execution_count": 57,
     "metadata": {},
     "output_type": "execute_result"
    }
   ],
   "source": [
    "veh = sim.res[1].veh_exp\n",
    "veh[veh.ACTUAL_INC>0].ACTUAL_INC"
   ]
  },
  {
   "cell_type": "code",
   "execution_count": 58,
   "id": "4d463541-ebce-48b9-bc9e-db6490145bb0",
   "metadata": {},
   "outputs": [
    {
     "data": {
      "text/plain": [
       "42.52"
      ]
     },
     "execution_count": 58,
     "metadata": {},
     "output_type": "execute_result"
    }
   ],
   "source": [
    "params.d2d.res_wage"
   ]
  },
  {
   "cell_type": "code",
   "execution_count": 23,
   "id": "75d9c7d6-75d2-4714-a240-57f81869cc28",
   "metadata": {},
   "outputs": [
    {
     "data": {
      "text/plain": [
       "76.13900000000001"
      ]
     },
     "execution_count": 23,
     "metadata": {},
     "output_type": "execute_result"
    }
   ],
   "source": [
    "sum(df[df.platform_id==1].MIN_WAGE_SUB)"
   ]
  },
  {
   "cell_type": "code",
   "execution_count": null,
   "id": "1255f7c9-ef6b-403c-ba1b-2ceab0bb7160",
   "metadata": {},
   "outputs": [
    {
     "data": {
      "text/plain": [
       "56.887800000000006"
      ]
     },
     "execution_count": 29,
     "metadata": {},
     "output_type": "execute_result"
    }
   ],
   "source": []
  },
  {
   "cell_type": "code",
   "execution_count": null,
   "id": "3afb9fb0-c406-438b-817a-1922c2576846",
   "metadata": {},
   "outputs": [],
   "source": []
  },
  {
   "cell_type": "code",
   "execution_count": null,
   "id": "f7046f46-d8e8-42cb-b349-31a80f47af6a",
   "metadata": {},
   "outputs": [],
   "source": [
    "available moves =  [(-1.0008889559999998, 0.8), (-0.8956279799999999, 1.0), (-0.803161196, 1.2)]\n",
    "P1 fare = 1.0,   P2 fare = 1.0\n",
    "\n",
    "available moves =  [(-0.7866972640000001, 0.8), (-0.67047696, 1.0), (-0.6220296679999999, 1.2)]\n",
    "P1 fare = 1.0,   P2 fare = 1.0\n",
    "\n",
    "available moves =  [(-0.6845589320000002, 0.8), (-0.5542179199999999, 1.0), (-0.46375278799999997, 1.2)]\n",
    "P1 fare = 1.0,   P2 fare = 1.2\n",
    "\n",
    "available moves =  [(-0.60472412, 0.8), (-0.32881933999999996, 1.0), (-0.13815787599999996, 1.2)]\n",
    "P1 fare = 1.2,   P2 fare = 1.2\n",
    "\n",
    "available moves =  [(-0.14568845999999996, 1.0), (0.0749152920000001, 1.2), (-0.024342859999999952, 1.4)]\n",
    "P1 fare = 1.2,   P2 fare = 1.2\n",
    "\n",
    "available moves =  [(0.13858266000000005, 1.0), (0.3542388160000002, 1.2), (0.2597620640000001, 1.4)]\n",
    "P1 fare = 1.2,   P2 fare = 1.2\n",
    "\n",
    "available moves =  [(0.36455818000000006, 1.0), (0.548785048, 1.2), (0.42584067600000014, 1.4)]\n",
    "P1 fare = 1.2,   P2 fare = 1.2"
   ]
  },
  {
   "cell_type": "code",
   "execution_count": null,
   "id": "503367e0-6768-41cf-b183-960362fa5f7e",
   "metadata": {},
   "outputs": [],
   "source": [
    "available moves =  [(-0.903731736, 0.8), (-0.7921206199999999, 1.0), (-0.7357015159999999, 1.2)]\n",
    "P1 fare = 1.0,   P2 fare = 1.0\n",
    "\n",
    "available moves =  [(-0.7870744879999999, 0.8), (-0.6975761199999999, 1.0), (-0.5582237440000001, 1.2)]\n",
    "P1 fare = 1.0,   P2 fare = 1.2\n",
    "\n",
    "available moves =  [(-0.63157522, 1.0), (-0.5051236039999999, 1.2), (-0.4124917040000001, 1.4)]\n",
    "P1 fare = 1.0,   P2 fare = 1.2\n",
    "\n",
    "available moves =  [(-0.5500508199999999, 1.0), (-0.41067644799999997, 1.2), (-0.45009946, 1.4)]\n",
    "P1 fare = 1.2,   P2 fare = 1.2\n",
    "\n",
    "available moves =  [(-0.56122406, 1.0), (-0.3861625, 1.2), (-0.339864756, 1.4)]\n",
    "P1 fare = 1.2,   P2 fare = 1.2\n",
    "\n",
    "available moves =  [(-0.5606606999999999, 1.0), (-0.41205238399999994, 1.2), (-0.338287816, 1.4)]\n",
    "P1 fare = 1.2,   P2 fare = 1.2"
   ]
  },
  {
   "cell_type": "code",
   "execution_count": null,
   "id": "9a2cb32f-f432-49fd-a72b-fff65beb2592",
   "metadata": {},
   "outputs": [],
   "source": []
  },
  {
   "cell_type": "code",
   "execution_count": null,
   "id": "1d8ee714-e029-4978-bdef-19d1569a1c6d",
   "metadata": {},
   "outputs": [],
   "source": []
  },
  {
   "cell_type": "code",
   "execution_count": null,
   "id": "1ffde9f3-21ea-44f4-84ae-4704d72f1e0c",
   "metadata": {},
   "outputs": [],
   "source": []
  },
  {
   "cell_type": "code",
   "execution_count": null,
   "id": "467331df-f967-4f35-9e90-d5b61e399745",
   "metadata": {},
   "outputs": [],
   "source": []
  },
  {
   "cell_type": "code",
   "execution_count": null,
   "id": "8080abcb-413a-411c-8f54-9196b65b384b",
   "metadata": {},
   "outputs": [],
   "source": []
  },
  {
   "cell_type": "code",
   "execution_count": null,
   "id": "620f01d5-8648-4d62-95c5-a53205db2658",
   "metadata": {},
   "outputs": [],
   "source": []
  },
  {
   "cell_type": "code",
   "execution_count": null,
   "id": "d7e9cebb-24cf-434d-9069-55be677311a6",
   "metadata": {},
   "outputs": [],
   "source": []
  }
 ],
 "metadata": {
  "kernelspec": {
   "display_name": "Python 3 (ipykernel)",
   "language": "python",
   "name": "python3"
  },
  "language_info": {
   "codemirror_mode": {
    "name": "ipython",
    "version": 3
   },
   "file_extension": ".py",
   "mimetype": "text/x-python",
   "name": "python",
   "nbconvert_exporter": "python",
   "pygments_lexer": "ipython3",
   "version": "3.9.7"
  }
 },
 "nbformat": 4,
 "nbformat_minor": 5
}
