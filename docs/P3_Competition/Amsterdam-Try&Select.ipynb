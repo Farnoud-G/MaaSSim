{
 "cells": [
  {
   "cell_type": "code",
   "execution_count": 1,
   "id": "88c34bdb-4d4b-483d-9ad8-e1c49ab84e95",
   "metadata": {},
   "outputs": [],
   "source": [
    "import os, sys\n",
    "module_path = os.path.abspath(os.path.join('../..'))\n",
    "if module_path not in sys.path:\n",
    "    sys.path.append(module_path)\n",
    "import MaaSSim"
   ]
  },
  {
   "cell_type": "code",
   "execution_count": 2,
   "id": "de438d80-eee9-45d4-9966-cfe116376610",
   "metadata": {},
   "outputs": [],
   "source": [
    "%load_ext autoreload\n",
    "%autoreload 2"
   ]
  },
  {
   "cell_type": "code",
   "execution_count": 3,
   "id": "0be8ec43-dffc-46de-8f22-f15509388cd9",
   "metadata": {
    "tags": []
   },
   "outputs": [],
   "source": [
    "#!pip install MaaSSim\n",
    "import MaaSSim.utils\n",
    "import logging\n",
    "from dotmap import DotMap\n",
    "import MaaSSim.simulators\n",
    "from MaaSSim.data_structures import structures as inData\n",
    "from MaaSSim.day_to_day import S_driver_opt_out_TS, S_traveller_opt_out_TS\n",
    "from MaaSSim.day_to_day import d2d_kpi_veh, d2d_kpi_pax"
   ]
  },
  {
   "cell_type": "code",
   "execution_count": 4,
   "id": "fed767fb-0ccb-468e-a274-a78a6809b403",
   "metadata": {
    "tags": []
   },
   "outputs": [],
   "source": [
    "import osmnx as ox\n",
    "import networkx as nx\n",
    "import random\n",
    "import math\n",
    "import pandas as pd\n",
    "import matplotlib.pyplot as plt          \n",
    "import numpy as np\n",
    "import seaborn as sns\n",
    "from statsmodels.tsa.stattools import adfuller"
   ]
  },
  {
   "cell_type": "code",
   "execution_count": 5,
   "id": "94da5da1-dba9-49f7-b64a-d206bef922bf",
   "metadata": {
    "tags": []
   },
   "outputs": [],
   "source": [
    "params = MaaSSim.utils.get_config('glance.json')\n",
    "params.city = \"Amsterdam, Netherlands\"\n",
    "params.paths.G = \"../../data/graphs/Amsterdam.graphml\"\n",
    "params.paths.skim = \"../../data/graphs/Amsterdam.csv\"\n",
    "params.vehicle_fixed_positions = True\n",
    "params.times.patience = 600 #second\n",
    "params.dist_threshold = 20000 #meter\n",
    "params.dist_threshold_min = 3000 #meter\n",
    "\n",
    "params.d2d.probabilistic = True\n",
    "params.d2d.heterogeneous = False\n",
    "params.d2d.B_income = 1\n",
    "params.d2d.fuel_cost = 0.25 #euro/km\n",
    "\n",
    "params.d2d.B_inveh_time = 1\n",
    "params.d2d.B_exp_time = 2 #1.5 in oded's paper\n",
    "params.PT_fare = 1 ## euro\n",
    "params.PT_avg_speed = 6\n",
    "\n",
    "params.nPM = 2 # number of platforms. platform id starts from 1\n",
    "params.platforms.base_fare = 1.4 #euro\n",
    "params.platforms.fare = float(1.20) #euro/km\n",
    "params.platforms.min_fare = float(2) # euro\n",
    "params.platforms.comm_rate = float(0.20)\n",
    "params.platforms.discount = float(0.0)\n",
    "params.platforms.daily_marketing = False\n",
    "\n",
    "params.d2d.learning_d = 1 \n",
    "params.d2d.B_Experience = 0.80\n",
    "params.d2d.B_WOM = 0.20\n",
    "params.d2d.B_Marketing = 0.0\n",
    "params.d2d.diffusion_speed = 10/100 # speed for M is twice greater than WOM.\n",
    "params.d2d.m = 5\n",
    "params.d2d.mn = 100/12 # for NL\n",
    "params.d2d.ini_att = 0.01\n",
    "params.d2d.Eini_att = 0.01\n",
    "params.d2d.adj_s = 2\n",
    "params.VoT = 10.63 # value of time per hour\n",
    "params.assert_me = False\n",
    "params.seed = 1\n",
    "params.paths.requests = 'Amsterdam_requests.csv'\n",
    "params.simTime = 4\n",
    "params.d2d.res_wage = params.simTime*10.63 #euro"
   ]
  },
  {
   "cell_type": "code",
   "execution_count": 20,
   "id": "2d1f9e42-0eb4-4c9b-9a1e-4aeeef6f1061",
   "metadata": {},
   "outputs": [],
   "source": [
    "params.threshold_u = 0.005\n",
    "params.max_revenue = 4000 # maximum revenue with the initial fare\n",
    "params.alpha = 0.0\n",
    "\n",
    "params.initial_capital = 50000\n",
    "params.expense_per_day = 500\n",
    "params.random_ini_position = False\n",
    "params.initial_capital = 50000\n",
    "params.expense_per_day = 500\n",
    "# params.punish_threshold = 5 #----------------------\n",
    "params.step_size = 0.2 # euro/km\n",
    "params.min_fare, params.max_fare  = 0.0, 3.0\n",
    "params.initial_fares = (1.0,1.0)\n",
    "\n",
    "params.turnover_interval = 50 #---------------------------------\n",
    "params.nP = 2000\n",
    "params.nV = 200\n",
    "params.nD = 1000"
   ]
  },
  {
   "cell_type": "code",
   "execution_count": 18,
   "id": "92bd6796-574a-420c-9a78-5c9dea2fe669",
   "metadata": {
    "tags": []
   },
   "outputs": [
    {
     "name": "stdout",
     "output_type": "stream",
     "text": [
      "This simulation uses albatros data\n",
      "19-12-24 11:22:35-WARNING-Setting up 4h simulation at 2024-12-19 09:22:18 for 200 vehicles and 2000 passengers in Amsterdam, Netherlands\n",
      "============ P1 TURN ============\n",
      "19-12-24 11:22:52-WARNING-simulation time 8.9 s\n",
      "Day =  0 --- on the Middle cell with fare 0.0\n",
      "(np1,vp1) =  (106, 11)     (np2,vp2) =  (113, 12)\n",
      "--------------------------------------------\n",
      "--------------------------------------------\n",
      "19-12-24 11:23:07-WARNING-simulation time 8.1 s\n",
      "Day =  0 --- on the Right cell with fare 0.2\n",
      "(np1,vp1) =  (110, 11)     (np2,vp2) =  (109, 15)\n",
      "--------------------------------------------\n",
      "--------------------------------------------\n",
      "[-inf, 0.02784, 0.030234844000000004]\n",
      "P1 fare = 0.2,   P2 fare = 1.0\n",
      "============ P2 TURN ============\n",
      "19-12-24 11:23:22-WARNING-simulation time 7.9 s\n",
      "Day =  1 --- on the Lower cell with fare 0.8\n",
      "(np1,vp1) =  (117, 4)     (np2,vp2) =  (119, 13)\n",
      "--------------------------------------------\n",
      "--------------------------------------------\n",
      "19-12-24 11:23:37-WARNING-simulation time 8.6 s\n",
      "Day =  1 --- on the Middle cell with fare 1.0\n",
      "(np1,vp1) =  (112, 8)     (np2,vp2) =  (100, 9)\n",
      "--------------------------------------------\n",
      "--------------------------------------------\n",
      "19-12-24 11:23:53-WARNING-simulation time 8.7 s\n",
      "Day =  1 --- on the Upper cell with fare 1.2\n",
      "(np1,vp1) =  (124, 9)     (np2,vp2) =  (114, 12)\n",
      "--------------------------------------------\n",
      "--------------------------------------------\n",
      "[0.047340719999999996, 0.041183590000000006, 0.052533816]\n",
      "P1 fare = 0.2,   P2 fare = 1.2\n"
     ]
    }
   ],
   "source": [
    "sim = MaaSSim.simulators.Try_and_Select(params=params, f_driver_out=S_driver_opt_out_TS,f_trav_out=S_traveller_opt_out_TS,\n",
    "                                  kpi_veh=d2d_kpi_veh,kpi_pax=d2d_kpi_pax, logger_level=logging.WARNING)\n"
   ]
  },
  {
   "cell_type": "code",
   "execution_count": 2,
   "id": "b56583f5-478c-483c-b172-5ffb37785b3f",
   "metadata": {},
   "outputs": [
    {
     "data": {
      "text/plain": [
       "4297.5"
      ]
     },
     "execution_count": 2,
     "metadata": {},
     "output_type": "execute_result"
    }
   ],
   "source": [
    "1.5*2865"
   ]
  },
  {
   "cell_type": "code",
   "execution_count": 19,
   "id": "9fa3a273-b0cf-4535-8656-323626b08c07",
   "metadata": {},
   "outputs": [
    {
     "data": {
      "text/plain": [
       "[None,\n",
       " (0.0, 0.02784, 41.599999999999994, 0.054),\n",
       " (0.2, 0.030234844000000004, 54.89896, 0.055)]"
      ]
     },
     "execution_count": 19,
     "metadata": {},
     "output_type": "execute_result"
    }
   ],
   "source": [
    "sim.competition_trajectory['P1']"
   ]
  },
  {
   "cell_type": "code",
   "execution_count": null,
   "id": "6e698613-0483-4239-8063-ab17a1ceb9c8",
   "metadata": {},
   "outputs": [],
   "source": []
  },
  {
   "cell_type": "code",
   "execution_count": 7,
   "id": "387a3633-649e-44e7-8817-da16529d4adb",
   "metadata": {
    "tags": []
   },
   "outputs": [],
   "source": [
    "params.nD = len(sim.res)\n",
    "\n",
    "df_s = pd.DataFrame()\n",
    "df_d = pd.DataFrame()\n",
    "\n",
    "for d in range(0,params.nD):\n",
    "    \n",
    "    veh_exp = sim.res[d].veh_exp\n",
    "    pax_exp = sim.res[d].pax_exp\n",
    "    plat_exp = sim.res[d].plat_exp\n",
    "    platforms = sim.res[d].platforms\n",
    "    \n",
    "    df_d.at[d, 'P1_EXPERIENCE_U'] = pax_exp.P1_EXPERIENCE_U.mean()\n",
    "    df_d.at[d, 'P2_EXPERIENCE_U'] = pax_exp.P2_EXPERIENCE_U.mean()\n",
    "    df_d.at[d, 'P1_WOM_U'] = pax_exp.P1_WOM_U.mean()\n",
    "    df_d.at[d, 'P2_WOM_U'] = pax_exp.P2_WOM_U.mean()\n",
    "    df_d.at[d, 'P1_MARKETING_U'] = pax_exp.P1_MARKETING_U.mean()\n",
    "    df_d.at[d, 'P2_MARKETING_U'] = pax_exp.P2_MARKETING_U.mean()\n",
    "    df_d.at[d, 'P1_OUT'] = pax_exp[pax_exp.platform_id==1].OUT.value_counts().get(False, 0)\n",
    "    df_d.at[d, 'P2_OUT'] = pax_exp[pax_exp.platform_id==2].OUT.value_counts().get(False, 0)\n",
    "    df_d.at[d, 'P1_ACTUAL_WT'] = pax_exp[pax_exp.platform_id==1].ACTUAL_WT.mean()\n",
    "    df_d.at[d, 'P2_ACTUAL_WT'] = pax_exp[pax_exp.platform_id==2].ACTUAL_WT.mean()\n",
    "    df_d.at[d, 'P1_MATCHING_T'] = pax_exp[pax_exp.platform_id==1].MATCHING_T.mean()\n",
    "    df_d.at[d, 'P2_MATCHING_T'] = pax_exp[pax_exp.platform_id==2].MATCHING_T.mean()\n",
    "    df_d.at[d, 'P1_PICKUP_T'] = veh_exp[veh_exp.platform_id==1].ARRIVES_AT_PICKUP.mean()/(veh_exp[veh_exp.platform_id==1].nRIDES.mean()*60)\n",
    "    df_d.at[d, 'P2_PICKUP_T'] = veh_exp[veh_exp.platform_id==2].ARRIVES_AT_PICKUP.mean()/(veh_exp[veh_exp.platform_id==2].nRIDES.mean()*60)\n",
    "    df_d.at[d, 'PICKUP_T'] = veh_exp[veh_exp.OUT==False].ARRIVES_AT_PICKUP.mean()/(veh_exp[veh_exp.OUT==False].nRIDES.mean()*60)\n",
    "    \n",
    "    df_d.at[d, 'P1_fare'] = plat_exp.fare[1]; df_d.at[d, 'P2_fare'] = plat_exp.fare[2]\n",
    "    df_d.at[d, 'P1_revenue'] = plat_exp.revenue[1]; df_d.at[d, 'P2_revenue'] = plat_exp.revenue[2]\n",
    "    df_d.at[d, 'P1_remaining_capital'] = plat_exp.remaining_capital[1]; df_d.at[d, 'P2_remaining_capital'] = plat_exp.remaining_capital[2]\n",
    "    \n",
    "    df_s.at[d, 'P1_EXPERIENCE_U'] = veh_exp.P1_EXPERIENCE_U.mean()\n",
    "    df_s.at[d, 'P2_EXPERIENCE_U'] = veh_exp.P2_EXPERIENCE_U.mean()\n",
    "    df_s.at[d, 'P1_WOM_U'] = veh_exp.P1_WOM_U.mean()\n",
    "    df_s.at[d, 'P2_WOM_U'] = veh_exp.P2_WOM_U.mean()\n",
    "    df_s.at[d, 'P1_MARKETING_U'] = veh_exp.P1_MARKETING_U.mean()\n",
    "    df_s.at[d, 'P2_MARKETING_U'] = veh_exp.P2_MARKETING_U.mean()\n",
    "    df_s.at[d, 'P1_OUT'] = veh_exp[veh_exp.platform_id==1].OUT.value_counts().get(False, 0)\n",
    "    df_s.at[d, 'P2_OUT'] = veh_exp[veh_exp.platform_id==2].OUT.value_counts().get(False, 0)\n",
    "    df_s.at[d, 'P1_IDLE_TIME'] = veh_exp[veh_exp.platform_id==1].IDLE_TIME.mean()/60\n",
    "    df_s.at[d, 'P2_IDLE_TIME'] = veh_exp[veh_exp.platform_id==2].IDLE_TIME.mean()/60\n",
    "    df_s.at[d, 'P1_REVENUE'] = veh_exp[veh_exp.platform_id==1].REVENUE.mean()\n",
    "    df_s.at[d, 'P2_REVENUE'] = veh_exp[veh_exp.platform_id==2].REVENUE.mean()\n",
    "    df_s.at[d, 'P1_ACTUAL_INC'] = veh_exp[veh_exp.platform_id==1].ACTUAL_INC.mean()\n",
    "    df_s.at[d, 'P2_ACTUAL_INC'] = veh_exp[veh_exp.platform_id==2].ACTUAL_INC.mean()\n",
    "    df_s.at[d, 'P1_COST'] = veh_exp[veh_exp.platform_id==1].COST.mean()\n",
    "    df_s.at[d, 'P2_COST'] = veh_exp[veh_exp.platform_id==2].COST.mean()\n",
    "    \n",
    "    if d==0: d_cols = df_d.columns.values.tolist()\n",
    "    if d==0: s_cols = df_s.columns.values.tolist()\n",
    "    \n",
    "    ld = sim.res[0].pax_exp.columns.values.tolist()\n",
    "    ldn = [i for i in ld if i not in d_cols]\n",
    "    for col in ldn:\n",
    "        df_d.at[d, col] = pax_exp[pax_exp.OUT==False][col].mean()\n",
    "        \n",
    "    ls = sim.res[0].veh_exp.columns.values.tolist()\n",
    "    lsn = [i for i in ls if i not in s_cols]\n",
    "    for col in lsn:\n",
    "        df_s.at[d, col] = veh_exp[veh_exp.OUT==False][col].mean()\n",
    "        \n",
    "run_id = '0.6_1_1'\n",
    "df_d.to_csv('demand_{}.csv'.format(run_id))\n",
    "df_s.to_csv('supply_{}.csv'.format(run_id))"
   ]
  },
  {
   "cell_type": "code",
   "execution_count": null,
   "id": "0082e429-f012-426b-a65d-bbd726cd8ad8",
   "metadata": {},
   "outputs": [],
   "source": []
  },
  {
   "cell_type": "code",
   "execution_count": 12,
   "id": "894f3cb2-8c10-4d4f-afca-d0f4870f79ff",
   "metadata": {},
   "outputs": [],
   "source": [
    "a = None"
   ]
  },
  {
   "cell_type": "code",
   "execution_count": 16,
   "id": "9ac9b756-0b6f-4da3-97e1-207e15cee850",
   "metadata": {},
   "outputs": [
    {
     "data": {
      "text/plain": [
       "True"
      ]
     },
     "execution_count": 16,
     "metadata": {},
     "output_type": "execute_result"
    }
   ],
   "source": [
    "a ==None"
   ]
  },
  {
   "cell_type": "code",
   "execution_count": null,
   "id": "367803a8-d6dd-4755-a69c-0f10c3320052",
   "metadata": {},
   "outputs": [],
   "source": []
  },
  {
   "cell_type": "code",
   "execution_count": null,
   "id": "7b999bfe-d9b1-46ed-9225-24bf14dfa0e2",
   "metadata": {},
   "outputs": [],
   "source": []
  },
  {
   "cell_type": "code",
   "execution_count": null,
   "id": "9cec34d1-11cf-4ec1-adcb-2e47e7a48950",
   "metadata": {},
   "outputs": [],
   "source": []
  },
  {
   "cell_type": "code",
   "execution_count": null,
   "id": "78928c84-07b4-4ec4-9192-ae82cf17b9a7",
   "metadata": {},
   "outputs": [],
   "source": []
  },
  {
   "cell_type": "code",
   "execution_count": null,
   "id": "b09c176e-414c-44d6-9c4f-3ea300f2f3be",
   "metadata": {},
   "outputs": [],
   "source": []
  }
 ],
 "metadata": {
  "kernelspec": {
   "display_name": "Python 3 (ipykernel)",
   "language": "python",
   "name": "python3"
  },
  "language_info": {
   "codemirror_mode": {
    "name": "ipython",
    "version": 3
   },
   "file_extension": ".py",
   "mimetype": "text/x-python",
   "name": "python",
   "nbconvert_exporter": "python",
   "pygments_lexer": "ipython3",
   "version": "3.9.7"
  }
 },
 "nbformat": 4,
 "nbformat_minor": 5
}
