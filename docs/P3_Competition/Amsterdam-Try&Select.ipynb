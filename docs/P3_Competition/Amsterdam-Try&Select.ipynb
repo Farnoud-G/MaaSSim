{
 "cells": [
  {
   "cell_type": "code",
   "execution_count": 1,
   "id": "88c34bdb-4d4b-483d-9ad8-e1c49ab84e95",
   "metadata": {},
   "outputs": [],
   "source": [
    "import os, sys\n",
    "module_path = os.path.abspath(os.path.join('../..'))\n",
    "if module_path not in sys.path:\n",
    "    sys.path.append(module_path)\n",
    "import MaaSSim"
   ]
  },
  {
   "cell_type": "code",
   "execution_count": 2,
   "id": "de438d80-eee9-45d4-9966-cfe116376610",
   "metadata": {},
   "outputs": [],
   "source": [
    "%load_ext autoreload\n",
    "%autoreload 2"
   ]
  },
  {
   "cell_type": "code",
   "execution_count": 3,
   "id": "0be8ec43-dffc-46de-8f22-f15509388cd9",
   "metadata": {
    "tags": []
   },
   "outputs": [],
   "source": [
    "#!pip install MaaSSim\n",
    "import MaaSSim.utils\n",
    "import logging\n",
    "from dotmap import DotMap\n",
    "import MaaSSim.simulators\n",
    "from MaaSSim.data_structures import structures as inData\n",
    "from MaaSSim.day_to_day import S_driver_opt_out_TS, S_traveller_opt_out_TS\n",
    "from MaaSSim.day_to_day import d2d_kpi_veh, d2d_kpi_pax"
   ]
  },
  {
   "cell_type": "code",
   "execution_count": 4,
   "id": "fed767fb-0ccb-468e-a274-a78a6809b403",
   "metadata": {
    "tags": []
   },
   "outputs": [],
   "source": [
    "import osmnx as ox\n",
    "import networkx as nx\n",
    "import random\n",
    "import math\n",
    "import pandas as pd\n",
    "import matplotlib.pyplot as plt          \n",
    "import numpy as np\n",
    "import seaborn as sns\n",
    "from statsmodels.tsa.stattools import adfuller"
   ]
  },
  {
   "cell_type": "code",
   "execution_count": 5,
   "id": "4bcd7092-230f-4f06-9d57-1d69438ebea6",
   "metadata": {
    "collapsed": true,
    "jupyter": {
     "outputs_hidden": true
    },
    "tags": []
   },
   "outputs": [
    {
     "ename": "SyntaxError",
     "evalue": "invalid syntax (Temp/ipykernel_32744/3350511655.py, line 9)",
     "output_type": "error",
     "traceback": [
      "\u001b[1;36m  File \u001b[1;32m\"C:\\Users\\farno\\AppData\\Local\\Temp/ipykernel_32744/3350511655.py\"\u001b[1;36m, line \u001b[1;32m9\u001b[0m\n\u001b[1;33m    Not only the remaining capital = 0 point is important, the profit>0 is also important.\u001b[0m\n\u001b[1;37m        ^\u001b[0m\n\u001b[1;31mSyntaxError\u001b[0m\u001b[1;31m:\u001b[0m invalid syntax\n"
     ]
    }
   ],
   "source": [
    "# Competition model based on capital:\n",
    "    \n",
    "#     reservation wage = 12 euro/h\n",
    "    \n",
    "#     Level 1- Minimum Wage below Reservation Wage ---> 9.6\n",
    "#     Level 2- Minimum Wage equal to Reservation Wage ---> 12\n",
    "#     Level 3- Minimum Wage above the Reservation Wage ---> 14.4\n",
    "\n",
    "Not only the remaining capital = 0 point is important, the profit>0 is also important."
   ]
  },
  {
   "cell_type": "code",
   "execution_count": 5,
   "id": "94da5da1-dba9-49f7-b64a-d206bef922bf",
   "metadata": {
    "tags": []
   },
   "outputs": [],
   "source": [
    "params = MaaSSim.utils.get_config('glance.json')\n",
    "params.city = \"Amsterdam, Netherlands\"\n",
    "params.paths.G = \"../../data/graphs/Amsterdam.graphml\"\n",
    "params.paths.skim = \"../../data/graphs/Amsterdam.csv\"\n",
    "params.vehicle_fixed_positions = True\n",
    "params.times.patience = 600 #second\n",
    "params.dist_threshold = 20000 #meter\n",
    "params.dist_threshold_min = 3000 #meter\n",
    "\n",
    "params.d2d.probabilistic = True\n",
    "params.d2d.heterogeneous = False\n",
    "params.d2d.B_income = 1\n",
    "params.d2d.fuel_cost = 0.25 #euro/km\n",
    "\n",
    "params.d2d.B_inveh_time = 1\n",
    "params.d2d.B_exp_time = 2 #1.5 in oded's paper\n",
    "params.PT_fare = 1 ## euro\n",
    "params.PT_avg_speed = 6\n",
    "\n",
    "params.nPM = 2 # number of platforms. platform id starts from 1\n",
    "params.platforms.base_fare = 1.4 #euro\n",
    "params.platforms.fare = float(1.20) #euro/km\n",
    "params.platforms.min_fare = float(2) # euro\n",
    "params.platforms.comm_rate = float(0.20)\n",
    "params.platforms.discount = float(0.0)\n",
    "params.platforms.daily_marketing = True\n",
    "\n",
    "params.d2d.learning_d = 1 \n",
    "params.d2d.B_Experience = 0.80\n",
    "params.d2d.B_WOM = 0.20\n",
    "params.d2d.B_Marketing = 0.0\n",
    "params.d2d.diffusion_speed = 10/100 # speed for M is twice greater than WOM.\n",
    "params.d2d.m = 5\n",
    "params.d2d.mn = 100/12 # for NL\n",
    "params.d2d.ini_att = 0.01\n",
    "params.d2d.Eini_att = 0.01\n",
    "params.d2d.adj_s = 2\n",
    "params.VoT = 12# 10.63 # value of time per hour\n",
    "params.assert_me = False\n",
    "params.seed = 1\n",
    "params.paths.requests = 'Amsterdam_requests.csv'\n",
    "params.simTime = 4\n",
    "params.d2d.res_wage = params.simTime*params.VoT #euro"
   ]
  },
  {
   "cell_type": "code",
   "execution_count": 6,
   "id": "2d1f9e42-0eb4-4c9b-9a1e-4aeeef6f1061",
   "metadata": {},
   "outputs": [],
   "source": [
    "params.threshold_u = 0.15 # if evaluation is based on capital. 0.005 if based on revenue and market share\n",
    "params.max_revenue = 4000 # maximum revenue with the initial fare\n",
    "params.alpha = 0.5\n",
    "params.initial_capital = 50000\n",
    "params.expense_per_day = 500\n",
    "params.random_ini_position = False\n",
    "params.step_size = 0.2 # euro/km\n",
    "params.min_fare, params.max_fare  = 0.0, 3.0\n",
    "params.initial_fares = (1.0,1.0)\n",
    "params.min_wage_sub = True\n",
    "\n",
    "params.nD = 1000\n",
    "params.turnover_interval =50 #---------------------------------\n",
    "params.nP = 2000\n",
    "params.nV = 200"
   ]
  },
  {
   "cell_type": "code",
   "execution_count": null,
   "id": "0a9dea1c-dd88-4b97-a5ab-e56c5920bda5",
   "metadata": {
    "tags": []
   },
   "outputs": [
    {
     "name": "stdout",
     "output_type": "stream",
     "text": [
      "This simulation uses albatros data\n",
      "03-01-25 10:59:16-WARNING-Setting up 4h simulation at 2025-01-03 08:58:55 for 200 vehicles and 2000 passengers in Amsterdam, Netherlands\n",
      "============ P1 TURN ============\n",
      "03-01-25 10:59:28-WARNING-simulation time 4.5 s\n",
      "Day =  0 --- on the Left cell with fare 0.8\n",
      "(np1,vp1) =  (0, 0)     (np2,vp2) =  (0, 0)\n",
      "--------------------------------------------\n",
      "03-01-25 10:59:42-WARNING-simulation time 5.7 s\n",
      "Day =  1 --- on the Left cell with fare 0.8\n",
      "(np1,vp1) =  (16, 2)     (np2,vp2) =  (18, 0)\n",
      "--------------------------------------------\n",
      "03-01-25 10:59:58-WARNING-simulation time 6.6 s\n",
      "Day =  2 --- on the Left cell with fare 0.8\n",
      "(np1,vp1) =  (40, 4)     (np2,vp2) =  (34, 3)\n",
      "--------------------------------------------\n"
     ]
    }
   ],
   "source": [
    "sim = MaaSSim.simulators.Try_and_Select(params=params, f_driver_out=S_driver_opt_out_TS,f_trav_out=S_traveller_opt_out_TS,\n",
    "                                  kpi_veh=d2d_kpi_veh,kpi_pax=d2d_kpi_pax, logger_level=logging.WARNING)"
   ]
  },
  {
   "cell_type": "code",
   "execution_count": null,
   "id": "8f945b1d-36a4-4215-bbf1-08681147372d",
   "metadata": {},
   "outputs": [],
   "source": []
  },
  {
   "cell_type": "code",
   "execution_count": 9,
   "id": "2fe886b0-9c9c-46d6-b930-7ce188ff340a",
   "metadata": {
    "collapsed": true,
    "jupyter": {
     "outputs_hidden": true
    },
    "tags": []
   },
   "outputs": [
    {
     "data": {
      "text/plain": [
       "[(0.8, 0.02625733600000001, 0.02625733600000001, 0.04885),\n",
       " (1.0, 0.031562259999999995, 0.031562259999999995, 0.046250000000000006),\n",
       " (1.2, 0.033957384, 0.033957384, 0.046575),\n",
       " (0.8, 0.03432186400000001, 0.03432186400000001, 0.0641),\n",
       " (1.0, 0.037157245000000005, 0.037157245000000005, 0.056950000000000014),\n",
       " (1.2, 0.045494693999999995, 0.045494693999999995, 0.059125),\n",
       " (1.0, 0.052400675, 0.052400675, 0.074575),\n",
       " (1.2, 0.05806447599999999, 0.05806447599999999, 0.074625),\n",
       " (1.4, 0.066303069, 0.066303069, 0.08380000000000001),\n",
       " (1.2, 0.06902750600000002, 0.06902750600000002, 0.09159999999999999),\n",
       " (1.4, 0.07385873600000001, 0.07385873600000001, 0.09259999999999999),\n",
       " (1.6, 0.07840420000000002, 0.07840420000000002, 0.097075),\n",
       " (1.2, 0.07510809000000002, 0.07510809000000002, 0.09582500000000001),\n",
       " (1.4, 0.08292458999999999, 0.08292458999999999, 0.10294999999999999),\n",
       " (1.6, 0.09044964000000001, 0.09044964000000001, 0.11112499999999999),\n",
       " (1.4, 0.087050019, 0.087050019, 0.10824999999999999),\n",
       " (1.6, 0.08960992799999999, 0.08960992799999999, 0.11147499999999999),\n",
       " (1.8, 0.09490069599999999, 0.09490069599999999, 0.115175),\n",
       " (1.4, 0.08576978899999999, 0.08576978899999999, 0.10289999999999999),\n",
       " (1.6, 0.09246176, 0.09246176, 0.112825),\n",
       " (1.8, 0.09754622400000001, 0.09754622400000001, 0.11862500000000001),\n",
       " (1.6, 0.08379461600000002, 0.08379461600000002, 0.10277499999999999),\n",
       " (1.8, 0.087765724, 0.087765724, 0.1086),\n",
       " (2.0, 0.08421071000000002, 0.08421071000000002, 0.09964999999999999),\n",
       " (1.4, 0.079389961, 0.079389961, 0.10200000000000001),\n",
       " (1.6, 0.086998104, 0.086998104, 0.10517500000000002),\n",
       " (1.8, 0.09091986099999999, 0.09091986099999999, 0.102375),\n",
       " (1.4, 0.07859476099999999, 0.07859476099999999, 0.09690000000000001),\n",
       " (1.6, 0.086833336, 0.086833336, 0.10697500000000001),\n",
       " (1.8, 0.09525451300000001, 0.09525451300000001, 0.11815)]"
      ]
     },
     "execution_count": 9,
     "metadata": {},
     "output_type": "execute_result"
    }
   ],
   "source": [
    "sim.competition_trajectory['P1']"
   ]
  },
  {
   "cell_type": "code",
   "execution_count": 8,
   "id": "387a3633-649e-44e7-8817-da16529d4adb",
   "metadata": {
    "tags": []
   },
   "outputs": [],
   "source": [
    "params.nD = len(sim.res)\n",
    "\n",
    "df_s = pd.DataFrame()\n",
    "df_d = pd.DataFrame()\n",
    "\n",
    "for d in range(0,params.nD):\n",
    "    \n",
    "    veh_exp = sim.res[d].veh_exp\n",
    "    pax_exp = sim.res[d].pax_exp\n",
    "    plat_exp = sim.res[d].plat_exp\n",
    "    platforms = sim.res[d].platforms\n",
    "    \n",
    "    df_d.at[d, 'P1_EXPERIENCE_U'] = pax_exp.P1_EXPERIENCE_U.mean()\n",
    "    df_d.at[d, 'P2_EXPERIENCE_U'] = pax_exp.P2_EXPERIENCE_U.mean()\n",
    "    df_d.at[d, 'P1_WOM_U'] = pax_exp.P1_WOM_U.mean()\n",
    "    df_d.at[d, 'P2_WOM_U'] = pax_exp.P2_WOM_U.mean()\n",
    "    df_d.at[d, 'P1_MARKETING_U'] = pax_exp.P1_MARKETING_U.mean()\n",
    "    df_d.at[d, 'P2_MARKETING_U'] = pax_exp.P2_MARKETING_U.mean()\n",
    "    df_d.at[d, 'P1_OUT'] = pax_exp[pax_exp.platform_id==1].OUT.value_counts().get(False, 0)\n",
    "    df_d.at[d, 'P2_OUT'] = pax_exp[pax_exp.platform_id==2].OUT.value_counts().get(False, 0)\n",
    "    df_d.at[d, 'P1_ACTUAL_WT'] = pax_exp[pax_exp.platform_id==1].ACTUAL_WT.mean()\n",
    "    df_d.at[d, 'P2_ACTUAL_WT'] = pax_exp[pax_exp.platform_id==2].ACTUAL_WT.mean()\n",
    "    df_d.at[d, 'P1_MATCHING_T'] = pax_exp[pax_exp.platform_id==1].MATCHING_T.mean()\n",
    "    df_d.at[d, 'P2_MATCHING_T'] = pax_exp[pax_exp.platform_id==2].MATCHING_T.mean()\n",
    "    df_d.at[d, 'P1_PICKUP_T'] = veh_exp[veh_exp.platform_id==1].ARRIVES_AT_PICKUP.mean()/(veh_exp[veh_exp.platform_id==1].nRIDES.mean()*60)\n",
    "    df_d.at[d, 'P2_PICKUP_T'] = veh_exp[veh_exp.platform_id==2].ARRIVES_AT_PICKUP.mean()/(veh_exp[veh_exp.platform_id==2].nRIDES.mean()*60)\n",
    "    df_d.at[d, 'PICKUP_T'] = veh_exp[veh_exp.OUT==False].ARRIVES_AT_PICKUP.mean()/(veh_exp[veh_exp.OUT==False].nRIDES.mean()*60)\n",
    "    \n",
    "    df_d.at[d, 'P1_fare'] = plat_exp.fare[1]; df_d.at[d, 'P2_fare'] = plat_exp.fare[2]\n",
    "    df_d.at[d, 'P1_revenue'] = plat_exp.revenue[1]; df_d.at[d, 'P2_revenue'] = plat_exp.revenue[2]\n",
    "    df_d.at[d, 'P1_remaining_capital'] = plat_exp.remaining_capital[1]; df_d.at[d, 'P2_remaining_capital'] = plat_exp.remaining_capital[2]\n",
    "    \n",
    "    df_s.at[d, 'P1_EXPERIENCE_U'] = veh_exp.P1_EXPERIENCE_U.mean()\n",
    "    df_s.at[d, 'P2_EXPERIENCE_U'] = veh_exp.P2_EXPERIENCE_U.mean()\n",
    "    df_s.at[d, 'P1_WOM_U'] = veh_exp.P1_WOM_U.mean()\n",
    "    df_s.at[d, 'P2_WOM_U'] = veh_exp.P2_WOM_U.mean()\n",
    "    df_s.at[d, 'P1_MARKETING_U'] = veh_exp.P1_MARKETING_U.mean()\n",
    "    df_s.at[d, 'P2_MARKETING_U'] = veh_exp.P2_MARKETING_U.mean()\n",
    "    df_s.at[d, 'P1_OUT'] = veh_exp[veh_exp.platform_id==1].OUT.value_counts().get(False, 0)\n",
    "    df_s.at[d, 'P2_OUT'] = veh_exp[veh_exp.platform_id==2].OUT.value_counts().get(False, 0)\n",
    "    df_s.at[d, 'P1_IDLE_TIME'] = veh_exp[veh_exp.platform_id==1].IDLE_TIME.mean()/60\n",
    "    df_s.at[d, 'P2_IDLE_TIME'] = veh_exp[veh_exp.platform_id==2].IDLE_TIME.mean()/60\n",
    "    df_s.at[d, 'P1_REVENUE'] = veh_exp[veh_exp.platform_id==1].REVENUE.mean()\n",
    "    df_s.at[d, 'P2_REVENUE'] = veh_exp[veh_exp.platform_id==2].REVENUE.mean()\n",
    "    df_s.at[d, 'P1_ACTUAL_INC'] = veh_exp[veh_exp.platform_id==1].ACTUAL_INC.mean()\n",
    "    df_s.at[d, 'P2_ACTUAL_INC'] = veh_exp[veh_exp.platform_id==2].ACTUAL_INC.mean()\n",
    "    df_s.at[d, 'P1_COST'] = veh_exp[veh_exp.platform_id==1].COST.mean()\n",
    "    df_s.at[d, 'P2_COST'] = veh_exp[veh_exp.platform_id==2].COST.mean()\n",
    "    \n",
    "    if d==0: d_cols = df_d.columns.values.tolist()\n",
    "    if d==0: s_cols = df_s.columns.values.tolist()\n",
    "    \n",
    "    ld = sim.res[0].pax_exp.columns.values.tolist()\n",
    "    ldn = [i for i in ld if i not in d_cols]\n",
    "    for col in ldn:\n",
    "        df_d.at[d, col] = pax_exp[pax_exp.OUT==False][col].mean()\n",
    "        \n",
    "    ls = sim.res[0].veh_exp.columns.values.tolist()\n",
    "    lsn = [i for i in ls if i not in s_cols]\n",
    "    for col in lsn:\n",
    "        df_s.at[d, col] = veh_exp[veh_exp.OUT==False][col].mean()\n",
    "        \n",
    "run_id = '{}_1_1'.format('capital_with_low_sub')\n",
    "df_d.to_csv('csv/1.1/demand_{}.csv'.format(run_id))\n",
    "df_s.to_csv('csv/1.1/supply_{}.csv'.format(run_id))"
   ]
  },
  {
   "cell_type": "code",
   "execution_count": null,
   "id": "78928c84-07b4-4ec4-9192-ae82cf17b9a7",
   "metadata": {},
   "outputs": [],
   "source": []
  },
  {
   "cell_type": "code",
   "execution_count": null,
   "id": "4a6fcd23-af62-466d-92ce-3877836b14f0",
   "metadata": {},
   "outputs": [],
   "source": [
    "Useful Sources:\n",
    "\n",
    "#NYC implements the most sever minimum wage regulation of drivers\n",
    "https://www.amny.com/nyc-transit/uber-threat-layoffs-drivers-nyc-minimum-pay/?utm_source=chatgpt.com\n",
    "\n",
    "# in response Uber is locking out drivers \n",
    "https://nypost.com/2024/10/11/business/uber-lyft-avoided-millions-in-pay-by-locking-nyc-drivers-out-of-apps-report/#:~:text=Business-,Uber%2C%20Lyft%20avoided%20millions%20in%20pay%20by%20locking,drivers%20out%20of%20apps%3A%20report&text=Uber%20and%20Lyft%20have%20been,pay%2C%20according%20to%20a%20report.\n",
    "\n",
    "https://en.wikipedia.org/wiki/Legality_of_ridesharing_companies_by_jurisdiction?utm_source=chatgpt.com"
   ]
  }
 ],
 "metadata": {
  "kernelspec": {
   "display_name": "Python 3 (ipykernel)",
   "language": "python",
   "name": "python3"
  },
  "language_info": {
   "codemirror_mode": {
    "name": "ipython",
    "version": 3
   },
   "file_extension": ".py",
   "mimetype": "text/x-python",
   "name": "python",
   "nbconvert_exporter": "python",
   "pygments_lexer": "ipython3",
   "version": "3.9.7"
  }
 },
 "nbformat": 4,
 "nbformat_minor": 5
}
