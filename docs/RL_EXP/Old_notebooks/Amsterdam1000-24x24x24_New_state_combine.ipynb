{
 "cells": [
  {
   "cell_type": "code",
   "execution_count": null,
   "id": "88c34bdb-4d4b-483d-9ad8-e1c49ab84e95",
   "metadata": {
    "pycharm": {
     "name": "#%%\n"
    }
   },
   "outputs": [],
   "source": [
    "import os, sys\n",
    "module_path = os.path.abspath(os.path.join('../..'))\n",
    "if module_path not in sys.path:\n",
    "    sys.path.append(module_path)\n",
    "import MaaSSim"
   ]
  },
  {
   "cell_type": "code",
   "execution_count": null,
   "id": "de438d80-eee9-45d4-9966-cfe116376610",
   "metadata": {
    "pycharm": {
     "name": "#%%\n"
    }
   },
   "outputs": [],
   "source": [
    "%load_ext autoreload\n",
    "%autoreload 2"
   ]
  },
  {
   "cell_type": "code",
   "execution_count": null,
   "id": "0be8ec43-dffc-46de-8f22-f15509388cd9",
   "metadata": {
    "pycharm": {
     "name": "#%%\n"
    },
    "tags": []
   },
   "outputs": [],
   "source": [
    "#!pip install MaaSSim\n",
    "import MaaSSim.utils\n",
    "import logging\n",
    "from dotmap import DotMap\n",
    "import MaaSSim.simulators\n",
    "from MaaSSim.data_structures import structures as inData\n",
    "# from MaaSSim.day_to_day import driver_opt_out, S_driver_opt_out, traveller_opt_out, S_traveller_opt_out\n",
    "from  MaaSSim.day_to_day import S_driver_opt_out, S_traveller_opt_out\n",
    "# from MaaSSim.day_to_day import traveller_opt_out\n",
    "from MaaSSim.day_to_day import d2d_kpi_veh\n",
    "from MaaSSim.day_to_day import d2d_kpi_pax"
   ]
  },
  {
   "cell_type": "code",
   "execution_count": null,
   "id": "fed767fb-0ccb-468e-a274-a78a6809b403",
   "metadata": {
    "pycharm": {
     "name": "#%%\n"
    },
    "tags": []
   },
   "outputs": [],
   "source": [
    "import osmnx as ox\n",
    "import networkx as nx\n",
    "import random\n",
    "import math\n",
    "import pandas as pd\n",
    "import matplotlib.pyplot as plt          \n",
    "import numpy as np\n",
    "import seaborn as sns\n",
    "from statsmodels.tsa.stattools import adfuller"
   ]
  },
  {
   "cell_type": "code",
   "execution_count": null,
   "id": "94da5da1-dba9-49f7-b64a-d206bef922bf",
   "metadata": {
    "pycharm": {
     "name": "#%%\n"
    },
    "tags": []
   },
   "outputs": [],
   "source": [
    "# the setting for TRB results do not delete\n",
    "params = MaaSSim.utils.get_config('glance.json')\n",
    "params.city = \"Amsterdam, Netherlands\"\n",
    "params.paths.G = \"../../data/graphs/Amsterdam.graphml\"\n",
    "params.paths.skim = \"../../data/graphs/Amsterdam.csv\"\n",
    "params.vehicle_fixed_positions = True\n",
    "params.times.patience = 600 #second\n",
    "params.dist_threshold = 20000 #meter\n",
    "params.dist_threshold_min = 2000 #meter\n",
    "\n",
    "params.d2d.probabilistic = True\n",
    "params.d2d.heterogeneous = False\n",
    "params.d2d.ini_att = 0.01 #0.5\n",
    "params.d2d.B_income = 1\n",
    "params.d2d.fuel_cost = 0.25 #euro/km\n",
    "\n",
    "params.d2d.B_inveh_time = 1\n",
    "params.d2d.B_exp_time = 2 #1.5 in oded's paper\n",
    "params.PT_fare = 1 ## euro\n",
    "params.PT_avg_speed = 6\n",
    "\n",
    "params.nPM = 1 # number of platforms. platform id starts from 1\n",
    "params.platforms.base_fare = 1.4 #euro\n",
    "params.platforms.fare = float(1.20) #euro/km\n",
    "params.platforms.min_fare = float(2) # euro\n",
    "params.platforms.comm_rate = float(0.10)\n",
    "params.platforms.discount = float(0.0) # float(0.0)\n",
    "params.platforms.daily_marketing = False\n",
    "\n",
    "params.d2d.learning_d = 1 #for TRB \n",
    "params.d2d.B_Experience = 0.80\n",
    "params.d2d.B_WOM = 0.2\n",
    "params.d2d.B_Marketing = 0.0\n",
    "params.d2d.diffusion_speed = 10/100 # speed for M is twice greater than WOM.\n",
    "params.d2d.m = 5 #for TRB\n",
    "params.d2d.Eini_att = 0.01\n",
    "params.d2d.adj_s = 2\n",
    "params.VoT = 10.63 # value of time per hour\n",
    "params.seed = 1\n",
    "params.assert_me = False\n",
    "params.paths.requests = 'Amsterdam_requests.csv'\n",
    "\n",
    "params.nP = 2000\n",
    "params.nV = 200\n",
    "params.nD = 1000\n",
    "params.simTime = 4\n",
    "params.d2d.res_wage = params.simTime*10.63 #euro"
   ]
  },
  {
   "cell_type": "code",
   "execution_count": null,
   "id": "eb5db28b",
   "metadata": {
    "jupyter": {
     "outputs_hidden": true
    },
    "pycharm": {
     "is_executing": true,
     "name": "#%%\n"
    },
    "scrolled": true,
    "tags": []
   },
   "outputs": [
    {
     "name": "stdout",
     "output_type": "stream",
     "text": [
      "This simulation uses albatros data\n"
     ]
    },
    {
     "name": "stderr",
     "output_type": "stream",
     "text": [
      "[2023-04-27 22:36:30,425] Setting up 4h simulation at 2023-04-27 20:36:04 for 200 vehicles and 2000 passengers in Amsterdam, Netherlands\n"
     ]
    },
    {
     "name": "stdout",
     "output_type": "stream",
     "text": [
      "initialization-----------------------\n",
      "state_size =  2   action_size =  3   Lever = Commission   step =  0.05\n",
      "fare =  1.2   comm_rate =  0.1   disc =  0.0   marketing = 0-100\n",
      "-------------------------------------\n",
      "Day =  0\n",
      "comm_rate =  0.1\n"
     ]
    },
    {
     "name": "stderr",
     "output_type": "stream",
     "text": [
      "[2023-04-27 22:36:38,654] simulation time 3.4 s\n"
     ]
    },
    {
     "name": "stdout",
     "output_type": "stream",
     "text": [
      "nP =  20    nV =  1     reward= 4.999999999999999 revenue 0.0 revenue/max_revenue 0.0    nP/params.nP= 0.01    nV/params.nV= 0.005\n",
      "mean reward so far: nan\n",
      "mean revenue so far: nan\n",
      "Day =  1\n",
      "comm_rate =  0.05\n"
     ]
    },
    {
     "name": "stderr",
     "output_type": "stream",
     "text": [
      "[2023-04-27 22:36:47,582] simulation time 3.7 s\n"
     ]
    },
    {
     "name": "stdout",
     "output_type": "stream",
     "text": [
      "nP =  42    nV =  4     reward= 14.622691919191919 revenue 7.57172 revenue/max_revenue 0.0028680757575757576    nP/params.nP= 0.021    nV/params.nV= 0.02\n",
      "mean reward so far: 4.999999999999999\n",
      "mean revenue so far: 0.0\n",
      "Day =  2\n",
      "comm_rate =  0.05\n"
     ]
    },
    {
     "name": "stderr",
     "output_type": "stream",
     "text": [
      "[2023-04-27 22:36:57,523] simulation time 4.5 s\n"
     ]
    },
    {
     "name": "stdout",
     "output_type": "stream",
     "text": [
      "nP =  50    nV =  10     reward= 26.868628787878784 revenue 14.79954 revenue/max_revenue 0.005605886363636364    nP/params.nP= 0.025    nV/params.nV= 0.05\n",
      "mean reward so far: 9.81134595959596\n",
      "mean revenue so far: 3.78586\n",
      "Day =  3\n",
      "comm_rate =  0.05\n"
     ]
    },
    {
     "name": "stderr",
     "output_type": "stream",
     "text": [
      "[2023-04-27 22:37:07,721] simulation time 4.7 s\n"
     ]
    },
    {
     "name": "stdout",
     "output_type": "stream",
     "text": [
      "nP =  83    nV =  4     reward= 22.617184343434342 revenue 16.7681 revenue/max_revenue 0.00635155303030303    nP/params.nP= 0.0415    nV/params.nV= 0.02\n",
      "mean reward so far: 15.497106902356899\n",
      "mean revenue so far: 7.457086666666666\n",
      "Day =  4\n",
      "comm_rate =  0.05\n"
     ]
    },
    {
     "name": "stderr",
     "output_type": "stream",
     "text": [
      "[2023-04-27 22:37:18,180] simulation time 5.2 s\n"
     ]
    },
    {
     "name": "stdout",
     "output_type": "stream",
     "text": [
      "nP =  91    nV =  6     reward= 28.696707070707074 revenue 27.95792 revenue/max_revenue 0.010590121212121212    nP/params.nP= 0.0455    nV/params.nV= 0.03\n",
      "mean reward so far: 17.27712626262626\n",
      "mean revenue so far: 9.784839999999999\n",
      "Day =  5\n",
      "comm_rate =  0.1\n"
     ]
    },
    {
     "name": "stderr",
     "output_type": "stream",
     "text": [
      "[2023-04-27 22:37:29,142] simulation time 5.5 s\n"
     ]
    },
    {
     "name": "stdout",
     "output_type": "stream",
     "text": [
      "nP =  108    nV =  12     reward= 46.13882828282828 revenue 64.45952 revenue/max_revenue 0.024416484848484847    nP/params.nP= 0.054    nV/params.nV= 0.06\n",
      "mean reward so far: 19.561042424242423\n",
      "mean revenue so far: 13.419456\n",
      "Day =  6\n",
      "comm_rate =  0.05\n"
     ]
    },
    {
     "name": "stderr",
     "output_type": "stream",
     "text": [
      "[2023-04-27 22:37:40,868] simulation time 6.2 s\n"
     ]
    },
    {
     "name": "stdout",
     "output_type": "stream",
     "text": [
      "nP =  111    nV =  8     reward= 36.54177272727273 revenue 37.29084 revenue/max_revenue 0.014125318181818183    nP/params.nP= 0.0555    nV/params.nV= 0.04\n",
      "mean reward so far: 23.9906734006734\n",
      "mean revenue so far: 21.926133333333336\n",
      "Day =  7\n",
      "comm_rate =  0.1\n"
     ]
    },
    {
     "name": "stderr",
     "output_type": "stream",
     "text": [
      "[2023-04-27 22:37:52,178] simulation time 6.0 s\n"
     ]
    },
    {
     "name": "stdout",
     "output_type": "stream",
     "text": [
      "nP =  129    nV =  8     reward= 44.69657575757576 revenue 78.11688000000001 revenue/max_revenue 0.029589727272727274    nP/params.nP= 0.0645    nV/params.nV= 0.04\n",
      "mean reward so far: 25.78368759018759\n",
      "mean revenue so far: 24.12109142857143\n",
      "Day =  8\n",
      "comm_rate =  0.05\n"
     ]
    },
    {
     "name": "stderr",
     "output_type": "stream",
     "text": [
      "[2023-04-27 22:38:04,128] simulation time 6.4 s\n"
     ]
    },
    {
     "name": "stdout",
     "output_type": "stream",
     "text": [
      "nP =  135    nV =  9     reward= 43.60224242424242 revenue 48.32976 revenue/max_revenue 0.018306727272727273    nP/params.nP= 0.0675    nV/params.nV= 0.045\n",
      "mean reward so far: 28.14779861111111\n",
      "mean revenue so far: 30.870565000000003\n",
      "Day =  9\n",
      "comm_rate =  0\n"
     ]
    },
    {
     "name": "stderr",
     "output_type": "stream",
     "text": [
      "[2023-04-27 22:38:16,339] simulation time 6.6 s\n"
     ]
    },
    {
     "name": "stdout",
     "output_type": "stream",
     "text": [
      "nP =  157    nV =  8     reward= 39.49999999999999 revenue 0.0 revenue/max_revenue 0.0    nP/params.nP= 0.0785    nV/params.nV= 0.04\n",
      "mean reward so far: 29.864959034792363\n",
      "mean revenue so far: 32.810475555555556\n",
      "Day =  10\n",
      "comm_rate =  0.0\n"
     ]
    },
    {
     "name": "stderr",
     "output_type": "stream",
     "text": [
      "[2023-04-27 22:38:28,565] simulation time 6.9 s\n"
     ]
    },
    {
     "name": "stdout",
     "output_type": "stream",
     "text": [
      "nP =  127    nV =  15     reward= 46.166666666666664 revenue 0.0 revenue/max_revenue 0.0    nP/params.nP= 0.0635    nV/params.nV= 0.075\n",
      "mean reward so far: 30.82846313131313\n",
      "mean revenue so far: 29.529428000000003\n",
      "Day =  11\n",
      "comm_rate =  0.05\n"
     ]
    },
    {
     "name": "stderr",
     "output_type": "stream",
     "text": [
      "[2023-04-27 22:38:40,754] simulation time 6.7 s\n"
     ]
    },
    {
     "name": "stdout",
     "output_type": "stream",
     "text": [
      "nP =  137    nV =  15     reward= 53.578126262626256 revenue 45.498760000000004 revenue/max_revenue 0.017234378787878788    nP/params.nP= 0.0685    nV/params.nV= 0.075\n",
      "mean reward so far: 32.22284527089072\n",
      "mean revenue so far: 26.844934545454546\n",
      "Day =  12\n",
      "comm_rate =  0.05\n"
     ]
    },
    {
     "name": "stderr",
     "output_type": "stream",
     "text": [
      "[2023-04-27 22:38:53,198] simulation time 6.9 s\n"
     ]
    },
    {
     "name": "stdout",
     "output_type": "stream",
     "text": [
      "nP =  170    nV =  15     reward= 59.428502525252526 revenue 48.273740000000004 revenue/max_revenue 0.018285507575757576    nP/params.nP= 0.085    nV/params.nV= 0.075\n",
      "mean reward so far: 34.00245202020202\n",
      "mean revenue so far: 28.399420000000003\n",
      "Day =  13\n",
      "comm_rate =  0.05\n"
     ]
    },
    {
     "name": "stderr",
     "output_type": "stream",
     "text": [
      "[2023-04-27 22:39:06,208] simulation time 7.7 s\n"
     ]
    },
    {
     "name": "stdout",
     "output_type": "stream",
     "text": [
      "nP =  126    nV =  21     reward= 63.9746691919192 revenue 63.159380000000006 revenue/max_revenue 0.023924007575757578    nP/params.nP= 0.063    nV/params.nV= 0.105\n",
      "mean reward so far: 35.95830205905206\n",
      "mean revenue so far: 29.928213846153845\n",
      "Day =  14\n",
      "comm_rate =  0\n"
     ]
    },
    {
     "name": "stderr",
     "output_type": "stream",
     "text": [
      "[2023-04-27 22:39:18,477] simulation time 6.7 s\n"
     ]
    },
    {
     "name": "stdout",
     "output_type": "stream",
     "text": [
      "nP =  160    nV =  15     reward= 51.666666666666664 revenue 0.0 revenue/max_revenue 0.0    nP/params.nP= 0.08    nV/params.nV= 0.075\n",
      "mean reward so far: 37.95947113997114\n",
      "mean revenue so far: 32.30186857142857\n",
      "Day =  15\n",
      "comm_rate =  0.05\n"
     ]
    },
    {
     "name": "stderr",
     "output_type": "stream",
     "text": [
      "[2023-04-27 22:39:31,609] simulation time 7.7 s\n"
     ]
    },
    {
     "name": "stdout",
     "output_type": "stream",
     "text": [
      "nP =  145    nV =  24     reward= 71.93287626262627 revenue 61.50838 revenue/max_revenue 0.02329862878787879    nP/params.nP= 0.0725    nV/params.nV= 0.12\n",
      "mean reward so far: 38.87328417508418\n",
      "mean revenue so far: 30.148410666666667\n",
      "Day =  16\n",
      "comm_rate =  0\n"
     ]
    },
    {
     "name": "stderr",
     "output_type": "stream",
     "text": [
      "[2023-04-27 22:39:44,159] simulation time 7.1 s\n"
     ]
    },
    {
     "name": "stdout",
     "output_type": "stream",
     "text": [
      "nP =  147    nV =  22     reward= 61.166666666666664 revenue 0.0 revenue/max_revenue 0.0    nP/params.nP= 0.0735    nV/params.nV= 0.11\n",
      "mean reward so far: 40.939508680555555\n",
      "mean revenue so far: 32.10840875\n",
      "Day =  17\n",
      "comm_rate =  0\n"
     ]
    },
    {
     "name": "stderr",
     "output_type": "stream",
     "text": [
      "[2023-04-27 22:39:56,836] simulation time 7.1 s\n"
     ]
    },
    {
     "name": "stdout",
     "output_type": "stream",
     "text": [
      "nP =  179    nV =  17     reward= 58.166666666666664 revenue 0.0 revenue/max_revenue 0.0    nP/params.nP= 0.0895    nV/params.nV= 0.085\n",
      "mean reward so far: 42.12934150326797\n",
      "mean revenue so far: 30.219678823529414\n",
      "Day =  18\n",
      "comm_rate =  0.05\n"
     ]
    },
    {
     "name": "stderr",
     "output_type": "stream",
     "text": [
      "[2023-04-27 22:40:10,049] simulation time 7.9 s\n"
     ]
    },
    {
     "name": "stdout",
     "output_type": "stream",
     "text": [
      "nP =  137    nV =  13     reward= 52.55914646464646 revenue 63.82844000000001 revenue/max_revenue 0.024177439393939397    nP/params.nP= 0.0685    nV/params.nV= 0.065\n",
      "mean reward so far: 43.020304012345676\n",
      "mean revenue so far: 28.54080777777778\n",
      "Day =  19\n",
      "comm_rate =  0.05\n"
     ]
    },
    {
     "name": "stderr",
     "output_type": "stream",
     "text": [
      "[2023-04-27 22:40:22,500] simulation time 6.9 s\n"
     ]
    },
    {
     "name": "stdout",
     "output_type": "stream",
     "text": [
      "nP =  145    nV =  21     reward= 65.26859343434343 revenue 48.32726 revenue/max_revenue 0.018305780303030303    nP/params.nP= 0.0725    nV/params.nV= 0.105\n",
      "mean reward so far: 43.52234835194045\n",
      "mean revenue so far: 30.39805157894737\n",
      "Day =  20\n",
      "comm_rate =  0\n"
     ]
    },
    {
     "name": "stderr",
     "output_type": "stream",
     "text": [
      "[2023-04-27 22:40:35,253] simulation time 7.2 s\n"
     ]
    },
    {
     "name": "stdout",
     "output_type": "stream",
     "text": [
      "nP =  151    nV =  21     reward= 60.166666666666664 revenue 0.0 revenue/max_revenue 0.0    nP/params.nP= 0.0755    nV/params.nV= 0.105\n",
      "mean reward so far: 44.6096606060606\n",
      "mean revenue so far: 31.294512000000005\n",
      "Day =  21\n",
      "comm_rate =  0.05\n"
     ]
    },
    {
     "name": "stderr",
     "output_type": "stream",
     "text": [
      "[2023-04-27 22:40:47,804] simulation time 7.2 s\n"
     ]
    },
    {
     "name": "stdout",
     "output_type": "stream",
     "text": [
      "nP =  168    nV =  13     reward= 57.10564141414142 revenue 58.91668 revenue/max_revenue 0.022316924242424242    nP/params.nP= 0.084    nV/params.nV= 0.065\n",
      "mean reward so far: 45.35047041847041\n",
      "mean revenue so far: 29.804297142857145\n",
      "Day =  22\n",
      "comm_rate =  0.05\n"
     ]
    },
    {
     "name": "stderr",
     "output_type": "stream",
     "text": [
      "[2023-04-27 22:41:00,825] simulation time 7.5 s\n"
     ]
    },
    {
     "name": "stdout",
     "output_type": "stream",
     "text": [
      "nP =  152    nV =  14     reward= 56.565681818181815 revenue 62.56020000000001 revenue/max_revenue 0.023697045454545457    nP/params.nP= 0.076    nV/params.nV= 0.07\n",
      "mean reward so far: 45.884796372819096\n",
      "mean revenue so far: 31.12758727272728\n",
      "Day =  23\n",
      "comm_rate =  0.1\n"
     ]
    },
    {
     "name": "stderr",
     "output_type": "stream",
     "text": [
      "[2023-04-27 22:41:13,558] simulation time 7.2 s\n"
     ]
    },
    {
     "name": "stdout",
     "output_type": "stream",
     "text": [
      "nP =  153    nV =  13     reward= 61.456520202020194 revenue 113.17564 revenue/max_revenue 0.042869560606060605    nP/params.nP= 0.0765    nV/params.nV= 0.065\n",
      "mean reward so far: 46.34918269653051\n",
      "mean revenue so far: 32.49422260869566\n",
      "Day =  24\n",
      "comm_rate =  0.15\n"
     ]
    },
    {
     "name": "stderr",
     "output_type": "stream",
     "text": [
      "[2023-04-27 22:41:26,183] simulation time 7.2 s\n"
     ]
    },
    {
     "name": "stdout",
     "output_type": "stream",
     "text": [
      "nP =  153    nV =  16     reward= 73.24764393939392 revenue 166.96133999999998 revenue/max_revenue 0.06324293181818182    nP/params.nP= 0.0765    nV/params.nV= 0.08\n",
      "mean reward so far: 46.97865509259259\n",
      "mean revenue so far: 35.85594833333334\n",
      "Day =  25\n",
      "comm_rate =  0.2\n"
     ]
    },
    {
     "name": "stderr",
     "output_type": "stream",
     "text": [
      "[2023-04-27 22:41:39,312] simulation time 7.3 s\n"
     ]
    },
    {
     "name": "stdout",
     "output_type": "stream",
     "text": [
      "nP =  158    nV =  16     reward= 80.6080606060606 revenue 218.65584 revenue/max_revenue 0.08282418181818182    nP/params.nP= 0.079    nV/params.nV= 0.08\n",
      "mean reward so far: 48.029414646464645\n",
      "mean revenue so far: 41.10016400000001\n",
      "Day =  26\n",
      "comm_rate =  0.25\n"
     ]
    },
    {
     "name": "stderr",
     "output_type": "stream",
     "text": [
      "[2023-04-27 22:41:52,214] simulation time 7.4 s\n"
     ]
    },
    {
     "name": "stdout",
     "output_type": "stream",
     "text": [
      "nP =  134    nV =  12     reward= 80.33565656565656 revenue 300.97839999999997 revenue/max_revenue 0.11400696969696969    nP/params.nP= 0.067    nV/params.nV= 0.06\n",
      "mean reward so far: 49.282439491064494\n",
      "mean revenue so far: 47.929228461538465\n",
      "Day =  27\n",
      "comm_rate =  0.2\n"
     ]
    },
    {
     "name": "stderr",
     "output_type": "stream",
     "text": [
      "[2023-04-27 22:42:04,746] simulation time 6.9 s\n"
     ]
    },
    {
     "name": "stdout",
     "output_type": "stream",
     "text": [
      "nP =  153    nV =  20     reward= 82.51382828282827 revenue 187.54952 revenue/max_revenue 0.07104148484848485    nP/params.nP= 0.0765    nV/params.nV= 0.1\n",
      "mean reward so far: 50.43255864197531\n",
      "mean revenue so far: 57.30142\n",
      "Day =  28\n",
      "comm_rate =  0.2\n"
     ]
    },
    {
     "name": "stderr",
     "output_type": "stream",
     "text": [
      "[2023-04-27 22:42:17,793] simulation time 7.5 s\n"
     ]
    },
    {
     "name": "stdout",
     "output_type": "stream",
     "text": [
      "nP =  160    nV =  15     reward= 80.16145454545453 revenue 225.67872 revenue/max_revenue 0.08548436363636364    nP/params.nP= 0.08    nV/params.nV= 0.075\n",
      "mean reward so far: 51.578318272005774\n",
      "mean revenue so far: 61.953137857142856\n",
      "Day =  29\n",
      "comm_rate =  0.15\n"
     ]
    },
    {
     "name": "stderr",
     "output_type": "stream",
     "text": [
      "[2023-04-27 22:42:30,857] simulation time 7.6 s\n"
     ]
    },
    {
     "name": "stdout",
     "output_type": "stream",
     "text": [
      "nP =  158    nV =  17     reward= 76.44472727272728 revenue 172.48224 revenue/max_revenue 0.06533418181818182    nP/params.nP= 0.079    nV/params.nV= 0.085\n",
      "mean reward so far: 52.56394366074538\n",
      "mean revenue so far: 67.59884758620689\n",
      "Day =  30\n",
      "comm_rate =  0.15\n"
     ]
    },
    {
     "name": "stderr",
     "output_type": "stream",
     "text": [
      "[2023-04-27 22:42:43,758] simulation time 7.3 s\n"
     ]
    },
    {
     "name": "stdout",
     "output_type": "stream",
     "text": [
      "nP =  150    nV =  7     reward= 59.046151515151514 revenue 177.24552 revenue/max_revenue 0.06713845454545454    nP/params.nP= 0.075    nV/params.nV= 0.035\n",
      "mean reward so far: 53.35996978114478\n",
      "mean revenue so far: 71.09496066666665\n",
      "Day =  31\n",
      "comm_rate =  0.15\n"
     ]
    },
    {
     "name": "stderr",
     "output_type": "stream",
     "text": [
      "[2023-04-27 22:42:55,557] simulation time 6.5 s\n"
     ]
    },
    {
     "name": "stdout",
     "output_type": "stream",
     "text": [
      "nP =  173    nV =  15     reward= 74.34024242424242 revenue 162.41472 revenue/max_revenue 0.06152072727272727    nP/params.nP= 0.0865    nV/params.nV= 0.075\n",
      "mean reward so far: 53.5433949983708\n",
      "mean revenue so far: 74.5191722580645\n",
      "Day =  32\n",
      "comm_rate =  0.15\n"
     ]
    },
    {
     "name": "stderr",
     "output_type": "stream",
     "text": [
      "[2023-04-27 22:43:09,103] simulation time 7.9 s\n"
     ]
    },
    {
     "name": "stdout",
     "output_type": "stream",
     "text": [
      "nP =  146    nV =  10     reward= 64.52993939393939 revenue 186.35712 revenue/max_revenue 0.07058981818181818    nP/params.nP= 0.073    nV/params.nV= 0.05\n",
      "mean reward so far: 54.1932964804293\n",
      "mean revenue so far: 77.26590812500001\n",
      "Day =  33\n",
      "comm_rate =  0.1\n"
     ]
    },
    {
     "name": "stderr",
     "output_type": "stream",
     "text": [
      "[2023-04-27 22:43:21,520] simulation time 6.9 s\n"
     ]
    },
    {
     "name": "stdout",
     "output_type": "stream",
     "text": [
      "nP =  154    nV =  16     reward= 65.37826262626261 revenue 103.31584000000001 revenue/max_revenue 0.03913478787878788    nP/params.nP= 0.077    nV/params.nV= 0.08\n",
      "mean reward so far: 54.506528083869\n",
      "mean revenue so far: 80.57170242424243\n",
      "Day =  34\n",
      "comm_rate =  0.1\n"
     ]
    },
    {
     "name": "stderr",
     "output_type": "stream",
     "text": [
      "[2023-04-27 22:43:34,466] simulation time 7.4 s\n"
     ]
    },
    {
     "name": "stdout",
     "output_type": "stream",
     "text": [
      "nP =  153    nV =  16     reward= 65.75738888888888 revenue 107.63852 revenue/max_revenue 0.040772166666666665    nP/params.nP= 0.0765    nV/params.nV= 0.08\n",
      "mean reward so far: 54.82628498217469\n",
      "mean revenue so far: 81.24064764705884\n",
      "Day =  35\n",
      "comm_rate =  0.1\n"
     ]
    },
    {
     "name": "stderr",
     "output_type": "stream",
     "text": [
      "[2023-04-27 22:43:47,146] simulation time 7.2 s\n"
     ]
    },
    {
     "name": "stdout",
     "output_type": "stream",
     "text": [
      "nP =  173    nV =  11     reward= 61.84683333333333 revenue 116.26692000000001 revenue/max_revenue 0.0440405    nP/params.nP= 0.0865    nV/params.nV= 0.055\n",
      "mean reward so far: 55.13860223665224\n",
      "mean revenue so far: 81.99487257142859\n",
      "Day =  36\n",
      "comm_rate =  0.15\n"
     ]
    },
    {
     "name": "stderr",
     "output_type": "stream",
     "text": [
      "[2023-04-27 22:44:00,202] simulation time 7.5 s\n"
     ]
    },
    {
     "name": "stdout",
     "output_type": "stream",
     "text": [
      "nP =  164    nV =  17     reward= 80.77671969696969 revenue 198.87161999999998 revenue/max_revenue 0.07533015909090908    nP/params.nP= 0.082    nV/params.nV= 0.085\n",
      "mean reward so far: 55.32494198933782\n",
      "mean revenue so far: 82.9468738888889\n",
      "Day =  37\n",
      "comm_rate =  0.1\n"
     ]
    },
    {
     "name": "stderr",
     "output_type": "stream",
     "text": [
      "[2023-04-27 22:44:13,051] simulation time 7.4 s\n"
     ]
    },
    {
     "name": "stdout",
     "output_type": "stream",
     "text": [
      "nP =  149    nV =  22     reward= 76.99676262626262 revenue 122.73436 revenue/max_revenue 0.046490287878787874    nP/params.nP= 0.0745    nV/params.nV= 0.11\n",
      "mean reward so far: 56.01282787332787\n",
      "mean revenue so far: 86.07997513513514\n",
      "Day =  38\n",
      "comm_rate =  0.1\n"
     ]
    },
    {
     "name": "stderr",
     "output_type": "stream",
     "text": [
      "[2023-04-27 22:44:25,806] simulation time 7.2 s\n"
     ]
    },
    {
     "name": "stdout",
     "output_type": "stream",
     "text": [
      "nP =  163    nV =  10     reward= 57.75341414141415 revenue 110.24704000000001 revenue/max_revenue 0.04176024242424243    nP/params.nP= 0.0815    nV/params.nV= 0.05\n",
      "mean reward so far: 56.565036682615634\n",
      "mean revenue so far: 87.04456421052633\n",
      "Day =  39\n",
      "comm_rate =  0.15\n"
     ]
    },
    {
     "name": "stderr",
     "output_type": "stream",
     "text": [
      "[2023-04-27 22:44:38,171] simulation time 7.0 s\n"
     ]
    },
    {
     "name": "stdout",
     "output_type": "stream",
     "text": [
      "nP =  163    nV =  14     reward= 73.45803787878788 revenue 181.82765999999998 revenue/max_revenue 0.06887411363636363    nP/params.nP= 0.0815    nV/params.nV= 0.07\n",
      "mean reward so far: 56.5955078995079\n",
      "mean revenue so far: 87.6394994871795\n",
      "Day =  40\n",
      "comm_rate =  0.15\n"
     ]
    },
    {
     "name": "stderr",
     "output_type": "stream",
     "text": [
      "[2023-04-27 22:44:51,263] simulation time 7.5 s\n"
     ]
    },
    {
     "name": "stdout",
     "output_type": "stream",
     "text": [
      "nP =  152    nV =  18     reward= 79.22898484848484 revenue 189.25356 revenue/max_revenue 0.07168695454545454    nP/params.nP= 0.076    nV/params.nV= 0.09\n",
      "mean reward so far: 57.0170711489899\n",
      "mean revenue so far: 89.9942035\n",
      "Day =  41\n",
      "comm_rate =  0.2\n"
     ]
    },
    {
     "name": "stderr",
     "output_type": "stream",
     "text": [
      "[2023-04-27 22:45:04,043] simulation time 7.2 s\n"
     ]
    },
    {
     "name": "stdout",
     "output_type": "stream",
     "text": [
      "nP =  174    nV =  20     reward= 91.42058585858587 revenue 230.37104 revenue/max_revenue 0.08726175757575758    nP/params.nP= 0.087    nV/params.nV= 0.1\n",
      "mean reward so far: 57.5588251416605\n",
      "mean revenue so far: 92.41516341463415\n",
      "Day =  42\n",
      "comm_rate =  0.15\n"
     ]
    },
    {
     "name": "stderr",
     "output_type": "stream",
     "text": [
      "[2023-04-27 22:45:17,364] simulation time 7.7 s\n"
     ]
    },
    {
     "name": "stdout",
     "output_type": "stream",
     "text": [
      "nP =  170    nV =  16     reward= 78.4595909090909 revenue 185.79996 revenue/max_revenue 0.07037877272727272    nP/params.nP= 0.085    nV/params.nV= 0.08\n",
      "mean reward so far: 58.36505753968254\n",
      "mean revenue so far: 95.69982714285715\n",
      "Day =  43\n",
      "comm_rate =  0.15\n"
     ]
    },
    {
     "name": "stderr",
     "output_type": "stream",
     "text": [
      "[2023-04-27 22:45:30,315] simulation time 7.6 s\n"
     ]
    },
    {
     "name": "stdout",
     "output_type": "stream",
     "text": [
      "nP =  160    nV =  16     reward= 77.24036363636364 revenue 189.34368 revenue/max_revenue 0.07172109090909091    nP/params.nP= 0.08    nV/params.nV= 0.08\n",
      "mean reward so far: 58.83237226920366\n",
      "mean revenue so far: 97.79517906976746\n",
      "Day =  44\n",
      "comm_rate =  0.1\n"
     ]
    },
    {
     "name": "stderr",
     "output_type": "stream",
     "text": [
      "[2023-04-27 22:45:43,261] simulation time 7.3 s\n"
     ]
    },
    {
     "name": "stdout",
     "output_type": "stream",
     "text": [
      "nP =  172    nV =  17     reward= 71.43029797979797 revenue 114.28796 revenue/max_revenue 0.04329089393939394    nP/params.nP= 0.086    nV/params.nV= 0.085\n",
      "mean reward so far: 59.25073570936639\n",
      "mean revenue so far: 99.87582681818184\n",
      "Day =  45\n",
      "comm_rate =  0.15\n"
     ]
    },
    {
     "name": "stderr",
     "output_type": "stream",
     "text": [
      "[2023-04-27 22:45:56,386] simulation time 7.7 s\n"
     ]
    },
    {
     "name": "stdout",
     "output_type": "stream",
     "text": [
      "nP =  147    nV =  17     reward= 76.47830303030304 revenue 187.26816 revenue/max_revenue 0.07093490909090909    nP/params.nP= 0.0735    nV/params.nV= 0.085\n",
      "mean reward so far: 59.521392648709316\n",
      "mean revenue so far: 100.19609644444445\n",
      "Day =  46\n",
      "comm_rate =  0.1\n"
     ]
    },
    {
     "name": "stderr",
     "output_type": "stream",
     "text": [
      "[2023-04-27 22:46:09,231] simulation time 7.2 s\n"
     ]
    },
    {
     "name": "stdout",
     "output_type": "stream",
     "text": [
      "nP =  176    nV =  12     reward= 63.009803030303026 revenue 108.31764 revenue/max_revenue 0.04102940909090909    nP/params.nP= 0.088    nV/params.nV= 0.06\n",
      "mean reward so far: 59.8900211352657\n",
      "mean revenue so far: 102.08896739130434\n",
      "Day =  47\n",
      "comm_rate =  0.15\n"
     ]
    },
    {
     "name": "stderr",
     "output_type": "stream",
     "text": [
      "[2023-04-27 22:46:22,309] simulation time 7.8 s\n"
     ]
    },
    {
     "name": "stdout",
     "output_type": "stream",
     "text": [
      "nP =  158    nV =  20     reward= 84.16553787878789 revenue 194.03106 revenue/max_revenue 0.07349661363636363    nP/params.nP= 0.079    nV/params.nV= 0.1\n",
      "mean reward so far: 59.95639947345798\n",
      "mean revenue so far: 102.22149234042553\n",
      "Day =  48\n",
      "comm_rate =  0.1\n"
     ]
    },
    {
     "name": "stderr",
     "output_type": "stream",
     "text": [
      "[2023-04-27 22:46:35,146] simulation time 7.4 s\n"
     ]
    },
    {
     "name": "stdout",
     "output_type": "stream",
     "text": [
      "nP =  157    nV =  16     reward= 67.26609595959596 revenue 114.30748 revenue/max_revenue 0.04329828787878788    nP/params.nP= 0.0785    nV/params.nV= 0.08\n",
      "mean reward so far: 60.460756523569025\n",
      "mean revenue so far: 104.13419166666665\n",
      "Day =  49\n",
      "comm_rate =  0.15\n"
     ]
    }
   ],
   "source": [
    "sim_rln_train,agent = MaaSSim.simulators.simulate_RLx_combine(params=params, f_driver_out=S_driver_opt_out,f_trav_out=S_traveller_opt_out,kpi_veh=d2d_kpi_veh,kpi_pax=d2d_kpi_pax, logger_level=logging.WARNING)"
   ]
  },
  {
   "cell_type": "code",
   "execution_count": null,
   "id": "376cb805",
   "metadata": {
    "pycharm": {
     "name": "#%%\n"
    }
   },
   "outputs": [],
   "source": [
    "sim_rln_train.RL.to_csv('../RL_EXP/csv/303030_5x/NEWSTATE_1000_24x24x24_combine_02.csv')"
   ]
  },
  {
   "cell_type": "code",
   "execution_count": null,
   "id": "24c8ecfd",
   "metadata": {
    "pycharm": {
     "name": "#%%\n"
    }
   },
   "outputs": [],
   "source": [
    "sim0 = sim_rln_train\n",
    "sns.set(rc={\"figure.dpi\":500, 'savefig.dpi':500})\n",
    "sns.set(palette='tab10',font_scale=1)#, rc={'axes.facecolor':'lightblue', 'figure.facecolor':'lightgreen'},)\n",
    "sns.set_style('whitegrid')\n",
    "fig, ax = plt.subplots(nrows=2, figsize=(16,8))\n",
    "# plt.subplots_adjust(wspace=0.3, hspace=0.4)\n",
    "sns.despine(left=True)\n",
    "\n",
    "for ax_n in [0,1]:\n",
    "    \n",
    "    x = []; ye = []; ym = []; yw = []; yms = []\n",
    "    if ax_n==0:\n",
    "        for d in range(0,sim0.params.nD):\n",
    "            yw.append(sim0.res[d].pax_exp.WOM_U.mean())\n",
    "            ym.append(sim0.res[d].pax_exp.MARKETING_U.mean())\n",
    "            ye.append(sim0.res[d].pax_exp.EXPERIENCE_U.mean())\n",
    "            yms.append(sim0.res[d].pax_exp.OUT.value_counts().get(False, 0)/params.nP)\n",
    "            \n",
    "    if ax_n==1:\n",
    "        for d in range(0,sim0.params.nD):\n",
    "            yw.append(sim0.res[d].veh_exp.WOM_U.mean())\n",
    "            ym.append(sim0.res[d].veh_exp.MARKETING_U.mean())\n",
    "            ye.append(sim0.res[d].veh_exp.EXPERIENCE_U.mean())\n",
    "            yms.append(sim0.res[d].veh_exp.OUT.value_counts().get(False, 0)/params.nV)\n",
    "    \n",
    "    lx = [i for i in range(1,len(ye)+1)]\n",
    "    sns.lineplot(x=lx, y=yms, label = 'Market share', color='C3', lw=4, ax=ax[ax_n])#, marker='o')\n",
    "    sns.lineplot(x=lx, y=ye, label = 'Experience utility', color='C0', lw=2, ax=ax[ax_n])#, marker='o')\n",
    "    sns.lineplot(x=lx, y=yw, label = 'Word of mouth utility', color='C2', lw=2, ax=ax[ax_n])#, marker='o')\n",
    "    sns.lineplot(x=lx, y=ym, label = 'Marketing utility', color='C1', lw=2, ax=ax[ax_n])#, marker='o')\n",
    "   \n",
    "    ax[ax_n].vlines([25, 50, 100, 200, 300], 0, 1.1, linestyles='dashed', colors='black')\n",
    "    ax[ax_n].grid(axis='x')\n",
    "    ax[ax_n].set(xlabel='Day', ylabel='Share', ylim=(0,1.1),  xlim=(-5,1005))\n",
    "    \n",
    "ax[0].set_title('Demand side',fontweight='bold', loc='center',fontsize=15);ax[1].set_title('Supply side',fontweight='bold', loc='center',fontsize=15)\n",
    "ax[0].legend(frameon=True,framealpha=1, loc=(0.555,0.05))#,  bbox_to_anchor=(0.75, 1.24), ncol=4)\n",
    "ax[1].get_legend().set_visible(False)\n",
    "for i in range(0,6):\n",
    "    value = ['I','II','III','IV','V','VI']\n",
    "    coords = [(12,1.05),(36,1.05),(74,1.05),(149,1.05),(249,1.05),(349,1.05)]\n",
    "    ax[0].annotate(value[i], xy =coords[i], fontweight='bold')\n",
    "\n",
    "# plt.yticks([0,1])\n",
    "\n",
    "plt.tight_layout()\n",
    "# plt.savefig('Fig1.png')"
   ]
  },
  {
   "cell_type": "code",
   "execution_count": null,
   "id": "90ead010",
   "metadata": {
    "pycharm": {
     "name": "#%%\n"
    }
   },
   "outputs": [],
   "source": []
  },
  {
   "cell_type": "code",
   "execution_count": null,
   "id": "587874cc",
   "metadata": {
    "pycharm": {
     "name": "#%%\n"
    }
   },
   "outputs": [],
   "source": []
  },
  {
   "cell_type": "code",
   "execution_count": null,
   "id": "45e3f550",
   "metadata": {
    "pycharm": {
     "name": "#%%\n"
    }
   },
   "outputs": [],
   "source": []
  },
  {
   "cell_type": "code",
   "execution_count": null,
   "id": "bb2cfcc3",
   "metadata": {
    "pycharm": {
     "is_executing": true,
     "name": "#%%\n"
    }
   },
   "outputs": [],
   "source": [
    "sim_rln_test,agent_test = MaaSSim.simulators.simulate_RLn_with_agent(input_agent=agent,params=params, f_driver_out=S_driver_opt_out,f_trav_out=S_traveller_opt_out,kpi_veh=d2d_kpi_veh,kpi_pax=d2d_kpi_pax, logger_level=logging.WARNING)"
   ]
  },
  {
   "cell_type": "code",
   "execution_count": null,
   "id": "4f616d38",
   "metadata": {
    "pycharm": {
     "name": "#%%\n"
    }
   },
   "outputs": [],
   "source": [
    "sim_rln_test.RL.to_csv('../RL_EXP/csv/303030_5x/400_24x24x24_1585_0.001_rev_only_test_3.csv')"
   ]
  },
  {
   "cell_type": "code",
   "execution_count": null,
   "id": "b5fdd9cb",
   "metadata": {
    "pycharm": {
     "name": "#%%\n"
    }
   },
   "outputs": [],
   "source": []
  },
  {
   "cell_type": "code",
   "execution_count": null,
   "id": "78ff8ce1",
   "metadata": {
    "pycharm": {
     "name": "#%%\n"
    }
   },
   "outputs": [],
   "source": []
  },
  {
   "cell_type": "code",
   "execution_count": null,
   "id": "907bcb93-b664-48c4-a9e3-ed6c4a646648",
   "metadata": {
    "pycharm": {
     "name": "#%%\n"
    },
    "tags": []
   },
   "outputs": [],
   "source": [
    "sim0 = sim_rln_test\n",
    "sns.set(rc={\"figure.dpi\":500, 'savefig.dpi':500})\n",
    "sns.set(palette='tab10',font_scale=1)#, rc={'axes.facecolor':'lightblue', 'figure.facecolor':'lightgreen'},)\n",
    "sns.set_style('whitegrid')\n",
    "fig, ax = plt.subplots(nrows=2, figsize=(16,8))\n",
    "# plt.subplots_adjust(wspace=0.3, hspace=0.4)\n",
    "sns.despine(left=True)\n",
    "\n",
    "for ax_n in [0,1]:\n",
    "    \n",
    "    x = []; ye = []; ym = []; yw = []; yms = []\n",
    "    if ax_n==0:\n",
    "        for d in range(0,sim0.params.nD):\n",
    "            yw.append(sim0.res[d].pax_exp.WOM_U.mean())\n",
    "            ym.append(sim0.res[d].pax_exp.MARKETING_U.mean())\n",
    "            ye.append(sim0.res[d].pax_exp.EXPERIENCE_U.mean())\n",
    "            yms.append(sim0.res[d].pax_exp.OUT.value_counts().get(False, 0)/params.nP)\n",
    "            \n",
    "    if ax_n==1:\n",
    "        for d in range(0,sim0.params.nD):\n",
    "            yw.append(sim0.res[d].veh_exp.WOM_U.mean())\n",
    "            ym.append(sim0.res[d].veh_exp.MARKETING_U.mean())\n",
    "            ye.append(sim0.res[d].veh_exp.EXPERIENCE_U.mean())\n",
    "            yms.append(sim0.res[d].veh_exp.OUT.value_counts().get(False, 0)/params.nV)\n",
    "    \n",
    "    lx = [i for i in range(1,len(ye)+1)]\n",
    "    sns.lineplot(x=lx, y=yms, label = 'Market share', color='C3', lw=4, ax=ax[ax_n])#, marker='o')\n",
    "    sns.lineplot(x=lx, y=ye, label = 'Experience utility', color='C0', lw=2, ax=ax[ax_n])#, marker='o')\n",
    "    sns.lineplot(x=lx, y=yw, label = 'Word of mouth utility', color='C2', lw=2, ax=ax[ax_n])#, marker='o')\n",
    "    sns.lineplot(x=lx, y=ym, label = 'Marketing utility', color='C1', lw=2, ax=ax[ax_n])#, marker='o')\n",
    "   \n",
    "    ax[ax_n].vlines([25, 50, 100, 200, 300], 0, 1.1, linestyles='dashed', colors='black')\n",
    "    ax[ax_n].grid(axis='x')\n",
    "    ax[ax_n].set(xlabel='Day', ylabel='Share', ylim=(0,1.1),  xlim=(-5,405))\n",
    "    \n",
    "ax[0].set_title('Demand side',fontweight='bold', loc='center',fontsize=15);ax[1].set_title('Supply side',fontweight='bold', loc='center',fontsize=15)\n",
    "ax[0].legend(frameon=True,framealpha=1, loc=(0.555,0.05))#,  bbox_to_anchor=(0.75, 1.24), ncol=4)\n",
    "ax[1].get_legend().set_visible(False)\n",
    "for i in range(0,6):\n",
    "    value = ['I','II','III','IV','V','VI']\n",
    "    coords = [(12,1.05),(36,1.05),(74,1.05),(149,1.05),(249,1.05),(349,1.05)]\n",
    "    ax[0].annotate(value[i], xy =coords[i], fontweight='bold')\n",
    "\n",
    "# plt.yticks([0,1])\n",
    "\n",
    "plt.tight_layout()\n",
    "# plt.savefig('Fig1.png')"
   ]
  },
  {
   "cell_type": "code",
   "execution_count": null,
   "id": "0d2f7138-26d2-45c6-bdfb-1eedad010e50",
   "metadata": {
    "pycharm": {
     "name": "#%%\n"
    }
   },
   "outputs": [],
   "source": [
    "sim = sim_rln"
   ]
  },
  {
   "cell_type": "code",
   "execution_count": null,
   "id": "8ca48193-8bf1-4e50-b7d7-dc7a56f0631b",
   "metadata": {
    "pycharm": {
     "name": "#%%\n"
    }
   },
   "outputs": [],
   "source": [
    "sim.res[100].veh_exp"
   ]
  },
  {
   "cell_type": "code",
   "execution_count": null,
   "id": "255f00cc-d8fb-4051-95b2-ec3650cd1dbf",
   "metadata": {
    "pycharm": {
     "name": "#%%\n"
    }
   },
   "outputs": [],
   "source": [
    "df = pd.DataFrame()\n",
    "np = []\n",
    "nv = []\n",
    "rev = []\n",
    "for d in range(0,sim.params.nD):\n",
    "    np.append(sim.res[d].pax_exp.OUT.value_counts().get(False, 0)/params.nP)\n",
    "    nv.append(sim.res[d].veh_exp.OUT.value_counts().get(False, 0)/params.nV)\n",
    "    rev.append(sim.res[d].pax_exp.plat_revenue.sum())\n",
    "\n",
    "df['nP_share'] = np\n",
    "df['nV_share'] = nv\n",
    "df['Platform_rev'] = rev\n",
    "\n",
    "df.to_csv('csv/baseline_fast_rev_only.csv')"
   ]
  },
  {
   "cell_type": "code",
   "execution_count": null,
   "id": "4cdd7981-d73f-4097-9ab4-357ae8a49a98",
   "metadata": {
    "pycharm": {
     "name": "#%%\n"
    }
   },
   "outputs": [],
   "source": [
    "sim.res[100].pax_exp.plat_revenue"
   ]
  },
  {
   "cell_type": "code",
   "execution_count": null,
   "id": "9c59b95f-2d0c-4716-9cda-a4467a938856",
   "metadata": {
    "pycharm": {
     "is_executing": true,
     "name": "#%%\n"
    }
   },
   "outputs": [],
   "source": [
    "df = pd.read_csv('csv/baseline_fast_h.csv')"
   ]
  },
  {
   "cell_type": "code",
   "execution_count": null,
   "id": "f3737b53-df1c-43cb-8f03-d6b81a914f57",
   "metadata": {
    "pycharm": {
     "name": "#%%\n"
    }
   },
   "outputs": [],
   "source": [
    "sns.set(rc={\"figure.dpi\":500, 'savefig.dpi':500})\n",
    "sns.set(palette='tab10',font_scale=1)#, rc={'axes.facecolor':'lightblue', 'figure.facecolor':'lightgreen'},)\n",
    "sns.set_style('whitegrid')\n",
    "fig, ax = plt.subplots(nrows=1, figsize=(16,4))\n",
    "sns.despine(left=True)\n",
    "\n",
    "sns.lineplot(x=lx,y=df.Platform_rev, lw=4)"
   ]
  },
  {
   "cell_type": "code",
   "execution_count": null,
   "id": "8ba668e1-7eba-428f-b42f-f53ca71c7978",
   "metadata": {
    "pycharm": {
     "name": "#%%\n"
    }
   },
   "outputs": [],
   "source": [
    "sns.set(rc={\"figure.dpi\":500, 'savefig.dpi':500})\n",
    "sns.set(palette='tab10',font_scale=1)#, rc={'axes.facecolor':'lightblue', 'figure.facecolor':'lightgreen'},)\n",
    "sns.set_style('whitegrid')\n",
    "fig, ax = plt.subplots(nrows=1, figsize=(16,4))\n",
    "sns.despine(left=True)\n",
    "\n",
    "sns.lineplot(x=lx,y=df.Platform_rev.cumsum(), lw=4)"
   ]
  },
  {
   "cell_type": "code",
   "execution_count": null,
   "id": "27e0b44e-5866-4965-a1a2-ebc51f93cad9",
   "metadata": {
    "pycharm": {
     "name": "#%%\n"
    }
   },
   "outputs": [],
   "source": [
    "sim.platforms.fare[1]"
   ]
  },
  {
   "cell_type": "code",
   "execution_count": null,
   "id": "3f1de9db-d633-45bb-94ea-ac94cfd1c892",
   "metadata": {
    "pycharm": {
     "name": "#%%\n"
    }
   },
   "outputs": [],
   "source": [
    "sim"
   ]
  },
  {
   "cell_type": "code",
   "execution_count": null,
   "id": "e522a098-d1aa-49fd-b99e-d5b4f36e5f56",
   "metadata": {
    "pycharm": {
     "name": "#%%\n"
    }
   },
   "outputs": [],
   "source": [
    "df = pd.read_csv('csv/baseline_fast_rev_0.5nP_0.5nV.csv')\n",
    "df"
   ]
  },
  {
   "cell_type": "code",
   "execution_count": null,
   "id": "5f568803-f5cc-4691-9604-011b940ac14a",
   "metadata": {
    "pycharm": {
     "name": "#%%\n"
    }
   },
   "outputs": [],
   "source": [
    "df.Platform_rev.mean()"
   ]
  },
  {
   "cell_type": "code",
   "execution_count": null,
   "id": "d059cd71-af31-40eb-ab31-d203836dc447",
   "metadata": {
    "pycharm": {
     "name": "#%%\n"
    }
   },
   "outputs": [],
   "source": []
  },
  {
   "cell_type": "code",
   "execution_count": null,
   "id": "904419ad-55b0-4e44-9057-17a82c78af51",
   "metadata": {
    "pycharm": {
     "name": "#%%\n"
    }
   },
   "outputs": [],
   "source": [
    "df.Platform_rev.mean()"
   ]
  },
  {
   "cell_type": "code",
   "execution_count": null,
   "id": "1635fd16-bb44-458d-bda0-c4097147dcf2",
   "metadata": {
    "pycharm": {
     "name": "#%%\n"
    }
   },
   "outputs": [],
   "source": [
    "df.Platform_rev.cumsum()"
   ]
  },
  {
   "cell_type": "code",
   "execution_count": null,
   "id": "24d74519-f678-4b90-84b3-46249608040c",
   "metadata": {
    "pycharm": {
     "name": "#%%\n"
    }
   },
   "outputs": [],
   "source": [
    "df.Platform_rev.mean()"
   ]
  },
  {
   "cell_type": "code",
   "execution_count": null,
   "id": "aa8b6a02-f028-4815-94f3-da5f6c7c0015",
   "metadata": {
    "pycharm": {
     "name": "#%%\n"
    }
   },
   "outputs": [],
   "source": [
    "df.Platform_rev.cumsum()"
   ]
  },
  {
   "cell_type": "code",
   "execution_count": null,
   "id": "56751554-7026-4685-bfbe-0644e5fa3268",
   "metadata": {
    "pycharm": {
     "name": "#%%\n"
    }
   },
   "outputs": [],
   "source": [
    "df.Platform_rev.mean()"
   ]
  },
  {
   "cell_type": "code",
   "execution_count": null,
   "id": "9351bb64-8e00-47dd-aada-abe3eba3eefc",
   "metadata": {
    "pycharm": {
     "name": "#%%\n"
    }
   },
   "outputs": [],
   "source": [
    "df.Platform_rev.cumsum()"
   ]
  },
  {
   "cell_type": "code",
   "execution_count": null,
   "id": "9d005a68-0cd6-4725-a5cb-fafe51df91c1",
   "metadata": {
    "pycharm": {
     "name": "#%%\n"
    }
   },
   "outputs": [],
   "source": [
    "df.Platform_rev.mean()"
   ]
  },
  {
   "cell_type": "code",
   "execution_count": null,
   "id": "40da10ca-60bc-4edd-afa7-9aeb3cba0bf8",
   "metadata": {
    "pycharm": {
     "name": "#%%\n"
    }
   },
   "outputs": [],
   "source": [
    "df.Platform_rev.cumsum()"
   ]
  },
  {
   "cell_type": "code",
   "execution_count": null,
   "id": "7686c33a-3363-40be-9fbb-1aa375193f85",
   "metadata": {
    "pycharm": {
     "name": "#%%\n"
    }
   },
   "outputs": [],
   "source": [
    "20/582"
   ]
  },
  {
   "cell_type": "code",
   "execution_count": null,
   "id": "085701b4-168c-4f1c-bb23-911fbe1941c6",
   "metadata": {
    "pycharm": {
     "name": "#%%\n"
    }
   },
   "outputs": [],
   "source": [
    "====================================================================================="
   ]
  },
  {
   "cell_type": "code",
   "execution_count": null,
   "id": "fd840827-3661-4a08-887d-98b3e5cd4a3b",
   "metadata": {
    "pycharm": {
     "name": "#%%\n"
    },
    "tags": []
   },
   "outputs": [],
   "source": [
    "# nV=100, nP=1000, params.d2d.m = 7, and params.d2d.learning_d = 5\n",
    "# marketing = 1-100, disc= 100-200, coms_0.5=300-400 \n",
    "\n",
    "sns.set(rc={\"figure.dpi\":500, 'savefig.dpi':500})\n",
    "sns.set(palette='tab10',font_scale=1)#, rc={'axes.facecolor':'lightblue', 'figure.facecolor':'lightgreen'},)\n",
    "sns.set_style('whitegrid')\n",
    "fig, ax = plt.subplots(nrows=2, figsize=(16,8))\n",
    "# plt.subplots_adjust(wspace=0.3, hspace=0.4)\n",
    "sns.despine(left=True)\n",
    "\n",
    "for ax_n in [0,1]:\n",
    "    \n",
    "    x = []; ye = []; ym = []; yw = []; yms = []\n",
    "    if ax_n==0:\n",
    "        for d in range(0,sim.params.nD):\n",
    "            yw.append(sim.res[d].pax_exp.WOM_U.mean())\n",
    "            ym.append(sim.res[d].pax_exp.MARKETING_U.mean())\n",
    "            ye.append(sim.res[d].pax_exp.EXPERIENCE_U.mean())\n",
    "            yms.append(sim.res[d].pax_exp.OUT.value_counts().get(False, 0)/params.nP)\n",
    "            \n",
    "    if ax_n==1:\n",
    "        for d in range(0,sim.params.nD):\n",
    "            yw.append(sim.res[d].veh_exp.WOM_U.mean())\n",
    "            ym.append(sim.res[d].veh_exp.MARKETING_U.mean())\n",
    "            ye.append(sim.res[d].veh_exp.EXPERIENCE_U.mean())\n",
    "            yms.append(sim.res[d].veh_exp.OUT.value_counts().get(False, 0)/params.nV)\n",
    "    \n",
    "    lx = [i for i in range(1,len(ye)+1)]\n",
    "    sns.lineplot(x=lx, y=yms, label = 'Market share', color='C3', lw=4, ax=ax[ax_n])#, marker='o')\n",
    "    sns.lineplot(x=lx, y=ye, label = 'Experience utility', color='C0', lw=2, ax=ax[ax_n])#, marker='o')\n",
    "    sns.lineplot(x=lx, y=yw, label = 'Word of mouth utility', color='C2', lw=2, ax=ax[ax_n])#, marker='o')\n",
    "    sns.lineplot(x=lx, y=ym, label = 'Marketing utility', color='C1', lw=2, ax=ax[ax_n])#, marker='o')\n",
    "   \n",
    "    ax[ax_n].vlines([25, 50, 100, 200, 300], 0, 1.1, linestyles='dashed', colors='black')\n",
    "    ax[ax_n].grid(axis='x')\n",
    "    ax[ax_n].set(xlabel='Day', ylabel='Share', ylim=(0,1.1),  xlim=(-5,405))\n",
    "    \n",
    "ax[0].set_title('Demand side',fontweight='bold', loc='center',fontsize=15);ax[1].set_title('Supply side',fontweight='bold', loc='center',fontsize=15)\n",
    "ax[0].legend(frameon=True,framealpha=1, loc=(0.555,0.05))#,  bbox_to_anchor=(0.75, 1.24), ncol=4)\n",
    "ax[1].get_legend().set_visible(False)\n",
    "for i in range(0,6):\n",
    "    value = ['I','II','III','IV','V','VI']\n",
    "    coords = [(12,1.05),(36,1.05),(74,1.05),(149,1.05),(249,1.05),(349,1.05)]\n",
    "    ax[0].annotate(value[i], xy =coords[i], fontweight='bold')\n",
    "\n",
    "# plt.yticks([0,1])\n",
    "\n",
    "plt.tight_layout()\n",
    "# plt.savefig('Fig1.png')"
   ]
  },
  {
   "cell_type": "code",
   "execution_count": null,
   "id": "4dec9efe-b620-48ca-99b8-ac6e526b8916",
   "metadata": {
    "pycharm": {
     "name": "#%%\n"
    },
    "tags": []
   },
   "outputs": [],
   "source": [
    "# nV=100, nP=1000, params.d2d.m = 7, and params.d2d.learning_d = 2\n",
    "# marketing = 1-100, disc= 100-200, coms_0.5=300-400 \n",
    "\n",
    "sns.set(rc={\"figure.dpi\":500, 'savefig.dpi':500})\n",
    "sns.set(palette='tab10',font_scale=1)#, rc={'axes.facecolor':'lightblue', 'figure.facecolor':'lightgreen'},)\n",
    "sns.set_style('whitegrid')\n",
    "fig, ax = plt.subplots(nrows=2, figsize=(16,8))\n",
    "# plt.subplots_adjust(wspace=0.3, hspace=0.4)\n",
    "sns.despine(left=True)\n",
    "\n",
    "for ax_n in [0,1]:\n",
    "    \n",
    "    x = []; ye = []; ym = []; yw = []; yms = []\n",
    "    if ax_n==0:\n",
    "        for d in range(0,sim.params.nD):\n",
    "            yw.append(sim.res[d].pax_exp.WOM_U.mean())\n",
    "            ym.append(sim.res[d].pax_exp.MARKETING_U.mean())\n",
    "            ye.append(sim.res[d].pax_exp.EXPERIENCE_U.mean())\n",
    "            yms.append(sim.res[d].pax_exp.OUT.value_counts().get(False, 0)/params.nP)\n",
    "            \n",
    "    if ax_n==1:\n",
    "        for d in range(0,sim.params.nD):\n",
    "            yw.append(sim.res[d].veh_exp.WOM_U.mean())\n",
    "            ym.append(sim.res[d].veh_exp.MARKETING_U.mean())\n",
    "            ye.append(sim.res[d].veh_exp.EXPERIENCE_U.mean())\n",
    "            yms.append(sim.res[d].veh_exp.OUT.value_counts().get(False, 0)/params.nV)\n",
    "    \n",
    "    lx = [i for i in range(1,len(ye)+1)]\n",
    "    sns.lineplot(x=lx, y=yms, label = 'Market share', color='C3', lw=4, ax=ax[ax_n])#, marker='o')\n",
    "    sns.lineplot(x=lx, y=ye, label = 'Experience utility', color='C0', lw=2, ax=ax[ax_n])#, marker='o')\n",
    "    sns.lineplot(x=lx, y=yw, label = 'Word of mouth utility', color='C2', lw=2, ax=ax[ax_n])#, marker='o')\n",
    "    sns.lineplot(x=lx, y=ym, label = 'Marketing utility', color='C1', lw=2, ax=ax[ax_n])#, marker='o')\n",
    "   \n",
    "    ax[ax_n].vlines([25, 50, 100, 200, 300], 0, 1.1, linestyles='dashed', colors='black')\n",
    "    ax[ax_n].grid(axis='x')\n",
    "    ax[ax_n].set(xlabel='Day', ylabel='Share', ylim=(0,1.1),  xlim=(-5,405))\n",
    "    \n",
    "ax[0].set_title('Demand side',fontweight='bold', loc='center',fontsize=15);ax[1].set_title('Supply side',fontweight='bold', loc='center',fontsize=15)\n",
    "ax[0].legend(frameon=True,framealpha=1, loc=(0.555,0.05))#,  bbox_to_anchor=(0.75, 1.24), ncol=4)\n",
    "ax[1].get_legend().set_visible(False)\n",
    "for i in range(0,6):\n",
    "    value = ['I','II','III','IV','V','VI']\n",
    "    coords = [(12,1.05),(36,1.05),(74,1.05),(149,1.05),(249,1.05),(349,1.05)]\n",
    "    ax[0].annotate(value[i], xy =coords[i], fontweight='bold')\n",
    "\n",
    "# plt.yticks([0,1])\n",
    "\n",
    "plt.tight_layout()\n",
    "# plt.savefig('Fig1.png')"
   ]
  },
  {
   "cell_type": "code",
   "execution_count": null,
   "id": "44cd91c4-7c03-4c4f-8525-0797ef13c2a5",
   "metadata": {
    "pycharm": {
     "name": "#%%\n"
    },
    "tags": []
   },
   "outputs": [],
   "source": [
    "# nV=200, nP=2000, params.d2d.m = 7, and params.d2d.learning_d = 2\n",
    "# marketing = 1-100, disc= 100-200, coms_0.5=300-400 \n",
    "\n",
    "sns.set(rc={\"figure.dpi\":500, 'savefig.dpi':500})\n",
    "sns.set(palette='tab10',font_scale=1)#, rc={'axes.facecolor':'lightblue', 'figure.facecolor':'lightgreen'},)\n",
    "sns.set_style('whitegrid')\n",
    "fig, ax = plt.subplots(nrows=2, figsize=(16,8))\n",
    "# plt.subplots_adjust(wspace=0.3, hspace=0.4)\n",
    "sns.despine(left=True)\n",
    "\n",
    "for ax_n in [0,1]:\n",
    "    \n",
    "    x = []; ye = []; ym = []; yw = []; yms = []\n",
    "    if ax_n==0:\n",
    "        for d in range(0,sim.params.nD):\n",
    "            yw.append(sim.res[d].pax_exp.WOM_U.mean())\n",
    "            ym.append(sim.res[d].pax_exp.MARKETING_U.mean())\n",
    "            ye.append(sim.res[d].pax_exp.EXPERIENCE_U.mean())\n",
    "            yms.append(sim.res[d].pax_exp.OUT.value_counts().get(False, 0)/params.nP)\n",
    "            \n",
    "    if ax_n==1:\n",
    "        for d in range(0,sim.params.nD):\n",
    "            yw.append(sim.res[d].veh_exp.WOM_U.mean())\n",
    "            ym.append(sim.res[d].veh_exp.MARKETING_U.mean())\n",
    "            ye.append(sim.res[d].veh_exp.EXPERIENCE_U.mean())\n",
    "            yms.append(sim.res[d].veh_exp.OUT.value_counts().get(False, 0)/params.nV)\n",
    "    \n",
    "    lx = [i for i in range(1,len(ye)+1)]\n",
    "    sns.lineplot(x=lx, y=yms, label = 'Market share', color='C3', lw=4, ax=ax[ax_n])#, marker='o')\n",
    "    sns.lineplot(x=lx, y=ye, label = 'Experience utility', color='C0', lw=2, ax=ax[ax_n])#, marker='o')\n",
    "    sns.lineplot(x=lx, y=yw, label = 'Word of mouth utility', color='C2', lw=2, ax=ax[ax_n])#, marker='o')\n",
    "    sns.lineplot(x=lx, y=ym, label = 'Marketing utility', color='C1', lw=2, ax=ax[ax_n])#, marker='o')\n",
    "   \n",
    "    ax[ax_n].vlines([25, 50, 100, 200, 300], 0, 1.1, linestyles='dashed', colors='black')\n",
    "    ax[ax_n].grid(axis='x')\n",
    "    ax[ax_n].set(xlabel='Day', ylabel='Share', ylim=(0,1.1),  xlim=(-5,405))\n",
    "    \n",
    "ax[0].set_title('Demand side',fontweight='bold', loc='center',fontsize=15);ax[1].set_title('Supply side',fontweight='bold', loc='center',fontsize=15)\n",
    "ax[0].legend(frameon=True,framealpha=1, loc=(0.555,0.05))#,  bbox_to_anchor=(0.75, 1.24), ncol=4)\n",
    "ax[1].get_legend().set_visible(False)\n",
    "for i in range(0,6):\n",
    "    value = ['I','II','III','IV','V','VI']\n",
    "    coords = [(12,1.05),(36,1.05),(74,1.05),(149,1.05),(249,1.05),(349,1.05)]\n",
    "    ax[0].annotate(value[i], xy =coords[i], fontweight='bold')\n",
    "\n",
    "# plt.yticks([0,1])\n",
    "\n",
    "plt.tight_layout()\n",
    "# plt.savefig('Fig1.png')"
   ]
  },
  {
   "cell_type": "code",
   "execution_count": null,
   "id": "d8b20acc-8399-4ebb-8b4c-902296d9ff8a",
   "metadata": {
    "pycharm": {
     "name": "#%%\n"
    }
   },
   "outputs": [],
   "source": [
    "sns.set(rc={\"figure.dpi\":500, 'savefig.dpi':500})\n",
    "sns.set(palette='tab10',font_scale=1)#, rc={'axes.facecolor':'lightblue', 'figure.facecolor':'lightgreen'},)\n",
    "sns.set_style('whitegrid')\n",
    "\n",
    "fig, ax = plt.subplots(figsize=(16,4))\n",
    "sns.despine(left=True)\n",
    "\n",
    "x = []\n",
    "ypr = []\n",
    "\n",
    "for d in range(0,sim.params.nD):\n",
    "    df = sim.res[d].pax_exp\n",
    "    ypr.append(df[df.OUT==False].plat_profit.sum())\n",
    "x = [i for i in range(1,len(ypr)+1)]\n",
    "\n",
    "df = pd.Series(ypr).to_frame()\n",
    "df.columns = ['income']\n",
    "marketing_costs = 0.5\n",
    "df['marketing costs']=df.apply(lambda x: -marketing_costs*2200 if x.name >50 and x.name<=100 else 0, axis = 1).astype(int)\n",
    "df['profit']=df.income + df['marketing costs']\n",
    "\n",
    "sns.lineplot(x=x, y=df.income.cumsum(), lw=3, label = 'Cumulative revenue', color='C0')#, marker='o')\n",
    "sns.lineplot(x=x, y=df.profit.cumsum(), lw=3, label = 'Cumulative profit', color='C8')#, marker='o')\n",
    "sns.lineplot(x=x, y=df['marketing costs'].astype(int).cumsum(), lw=3, label = 'Cumulative cost', color='C1')#, marker='o')\n",
    "\n",
    "ax.grid(axis='x')\n",
    "ax.vlines([25, 50, 100, 200, 300], -100000, 325000, linestyles='dashed', colors='black')\n",
    "# sns.lineplot(x=x, y=ypr, label = 'plat_profit')#, marker='o')\n",
    "sns.despine(left=True)\n",
    "ax.set(xlim=(-5,410), ylim=(-100000,325000))\n",
    "ax.legend(framealpha=1, loc=(0.55,0.72))\n",
    "\n",
    "value = ['I','II','III','IV','V','VI']\n",
    "for i in range(0,6):\n",
    "    coords = [(12,312500),(36,312500),(74,312500),(149,312500),(249,312500),(349,312500)]\n",
    "    ax.annotate(value[i], xy =coords[i], fontweight='bold')\n",
    "\n",
    "plt.tight_layout()\n",
    "# plt.savefig('Fig5.png')"
   ]
  },
  {
   "cell_type": "code",
   "execution_count": null,
   "id": "7b88a33d-b500-4783-bdf6-2d8df12bf742",
   "metadata": {
    "pycharm": {
     "name": "#%%\n"
    }
   },
   "outputs": [],
   "source": []
  },
  {
   "cell_type": "code",
   "execution_count": null,
   "id": "592a4869-f5b5-49f7-8e93-ba3a0867c852",
   "metadata": {
    "pycharm": {
     "name": "#%%\n"
    }
   },
   "outputs": [],
   "source": []
  },
  {
   "cell_type": "code",
   "execution_count": null,
   "id": "73b51897-fbd2-4faa-818d-1cd96841c532",
   "metadata": {
    "pycharm": {
     "name": "#%%\n"
    }
   },
   "outputs": [],
   "source": [
    "df = pd.read_csv('csv/baseline_fast.csv')\n",
    "df"
   ]
  },
  {
   "cell_type": "code",
   "execution_count": null,
   "id": "7cb529e1-ee2a-48f0-a752-ea0085f81faf",
   "metadata": {
    "pycharm": {
     "name": "#%%\n"
    }
   },
   "outputs": [],
   "source": [
    "df.Platform_rev.max()"
   ]
  },
  {
   "cell_type": "code",
   "execution_count": null,
   "id": "f3d0aa97-9dd9-4527-b143-ece5c820f9c4",
   "metadata": {
    "pycharm": {
     "name": "#%%\n"
    }
   },
   "outputs": [],
   "source": []
  },
  {
   "cell_type": "code",
   "execution_count": null,
   "id": "4882c31b-b2c5-4df3-bba2-a50d02706bb7",
   "metadata": {
    "pycharm": {
     "name": "#%%\n"
    }
   },
   "outputs": [],
   "source": []
  },
  {
   "cell_type": "code",
   "execution_count": null,
   "id": "238cd8f4-e8f2-4e56-9118-09a5f1555ba9",
   "metadata": {
    "pycharm": {
     "name": "#%%\n"
    }
   },
   "outputs": [],
   "source": [
    "2638.8502"
   ]
  }
 ],
 "metadata": {
  "kernelspec": {
   "display_name": "Python 3 (ipykernel)",
   "language": "python",
   "name": "python3"
  },
  "language_info": {
   "codemirror_mode": {
    "name": "ipython",
    "version": 3
   },
   "file_extension": ".py",
   "mimetype": "text/x-python",
   "name": "python",
   "nbconvert_exporter": "python",
   "pygments_lexer": "ipython3",
   "version": "3.7.9"
  }
 },
 "nbformat": 4,
 "nbformat_minor": 5
}
