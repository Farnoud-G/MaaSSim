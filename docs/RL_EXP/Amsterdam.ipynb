{
 "cells": [
  {
   "cell_type": "code",
   "execution_count": 1,
   "id": "88c34bdb-4d4b-483d-9ad8-e1c49ab84e95",
   "metadata": {},
   "outputs": [],
   "source": [
    "import os, sys\n",
    "module_path = os.path.abspath(os.path.join('../..'))\n",
    "if module_path not in sys.path:\n",
    "    sys.path.append(module_path)\n",
    "import MaaSSim"
   ]
  },
  {
   "cell_type": "code",
   "execution_count": 2,
   "id": "de438d80-eee9-45d4-9966-cfe116376610",
   "metadata": {},
   "outputs": [],
   "source": [
    "%load_ext autoreload\n",
    "%autoreload 2"
   ]
  },
  {
   "cell_type": "code",
   "execution_count": 3,
   "id": "0be8ec43-dffc-46de-8f22-f15509388cd9",
   "metadata": {
    "tags": []
   },
   "outputs": [],
   "source": [
    "#!pip install MaaSSim\n",
    "import MaaSSim.utils\n",
    "import logging\n",
    "from dotmap import DotMap\n",
    "import MaaSSim.simulators\n",
    "from MaaSSim.data_structures import structures as inData\n",
    "from MaaSSim.day_to_day import S_driver_opt_out, S_traveller_opt_out, d2d_kpi_veh, d2d_kpi_pax\n",
    "\n",
    "from MaaSSim.decisions import dummy_False"
   ]
  },
  {
   "cell_type": "code",
   "execution_count": 4,
   "id": "fed767fb-0ccb-468e-a274-a78a6809b403",
   "metadata": {
    "tags": []
   },
   "outputs": [],
   "source": [
    "import osmnx as ox\n",
    "import networkx as nx\n",
    "import random\n",
    "import math\n",
    "import pandas as pd\n",
    "import matplotlib.pyplot as plt          \n",
    "import numpy as np\n",
    "import seaborn as sns"
   ]
  },
  {
   "cell_type": "code",
   "execution_count": 37,
   "id": "94da5da1-dba9-49f7-b64a-d206bef922bf",
   "metadata": {
    "tags": []
   },
   "outputs": [],
   "source": [
    "# the setting for TRB results do not delete\n",
    "params = MaaSSim.utils.get_config('glance.json')\n",
    "params.city = \"Amsterdam, Netherlands\"\n",
    "params.paths.G = \"../../data/graphs/Amsterdam.graphml\"\n",
    "params.paths.skim = \"../../data/graphs/Amsterdam.csv\"\n",
    "params.vehicle_fixed_positions = True\n",
    "params.times.patience = 600 #second\n",
    "params.dist_threshold = 20000 #meter\n",
    "params.dist_threshold_min = 3000 #meter\n",
    "\n",
    "params.d2d.probabilistic = True\n",
    "params.d2d.heterogeneous = False\n",
    "params.d2d.notification_via_marketing = False # If True, marketing is active and agents regularly get notified.\n",
    "params.d2d.ini_att = 0.01 #0.5\n",
    "params.d2d.B_income = 1\n",
    "params.d2d.fuel_cost = 0.25 #euro/km\n",
    "\n",
    "params.d2d.B_inveh_time = 1\n",
    "params.d2d.B_exp_time = 2 #1.5 in oded's paper\n",
    "params.PT_fare = 1 ## euro\n",
    "params.PT_avg_speed = 6\n",
    "\n",
    "params.nPM = 1 # number of platforms. platform id starts from 1\n",
    "params.platforms.base_fare = 1.4 #euro\n",
    "params.platforms.fare = float(1.20) #euro/km\n",
    "params.platforms.min_fare = float(2) # euro\n",
    "params.platforms.comm_rate = float(0.20)\n",
    "params.platforms.discount = float(0.0) # float(0.0)\n",
    "params.platforms.daily_marketing = False\n",
    "\n",
    "params.d2d.learning_d = 1 #for TRB \n",
    "params.d2d.B_Experience = 0.80\n",
    "params.d2d.B_WOM = 0.2\n",
    "params.d2d.B_Marketing = 0.0\n",
    "params.d2d.diffusion_speed = 10/100 # speed for M is twice greater than WOM.\n",
    "params.d2d.m = 7 #for TRB\n",
    "params.d2d.Eini_att = 0.01\n",
    "params.d2d.adj_s = 2\n",
    "params.VoT = 10.63 # value of time per hour\n",
    "params.seed = 1\n",
    "params.assert_me = False\n",
    "params.paths.requests = 'Amsterdam_requests.csv'\n",
    "\n",
    "params.lr = 0.001 # input\n",
    "params.stp = 0.05\n",
    "params.nP = 2000\n",
    "params.nV = 200\n",
    "params.nD = 10\n",
    "params.simTime = 4\n",
    "params.d2d.res_wage = params.simTime*10.63 #euro"
   ]
  },
  {
   "cell_type": "code",
   "execution_count": 33,
   "id": "6d8701a4-895f-46d8-995c-9824e11903f6",
   "metadata": {},
   "outputs": [],
   "source": [
    "# Three changes in the setting based on the comments from Reviewers and supervisors:\n",
    "# 1. we fix the demand, so travellers are always present and they don't choose between platform and PT\n",
    "# 2. we fix the commission rate to 20% for baseline scenario to be inline with actual Uber operation \n",
    "# 3. we delete the greed stage from the baseline scenario to be inline with actual Uber operation "
   ]
  },
  {
   "cell_type": "code",
   "execution_count": 38,
   "id": "92bd6796-574a-420c-9a78-5c9dea2fe669",
   "metadata": {
    "tags": []
   },
   "outputs": [
    {
     "name": "stdout",
     "output_type": "stream",
     "text": [
      "This simulation uses albatros data\n",
      "24-02-24 13:44:14-WARNING-Setting up 4h simulation at 2024-02-24 11:43:37 for 200 vehicles and 2000 passengers in Amsterdam, Netherlands\n",
      "24-02-24 13:44:14-WARNING-`lr` is deprecated in Keras optimizer, please use `learning_rate` or use the legacy optimizer, e.g.,tf.keras.optimizers.legacy.Adam.\n",
      "initialization-----------------------\n",
      "state_size =  2   action_size =  3   Lever = Commission   step =  0.05\n",
      "fare =  1.2   comm_rate =  0.1   disc =  0.0   marketing = 0-100\n",
      "-------------------------------------\n",
      "Day =  0\n",
      "24-02-24 13:44:24-WARNING-simulation time 3.3 s\n",
      "comm_rate =  0.1\n",
      "nP =  0   nV =  0   comm_rate =  0.1   reward= 0.0\n",
      "Day =  1\n",
      "24-02-24 13:44:37-WARNING-simulation time 5.0 s\n",
      "comm_rate =  1.0\n",
      "nP =  66   nV =  5   comm_rate =  1.0   reward= 478.5372\n",
      "Day =  2\n",
      "24-02-24 13:44:49-WARNING-simulation time 4.7 s\n",
      "comm_rate =  1.0\n",
      "nP =  53   nV =  4   comm_rate =  1.0   reward= 327.8292\n",
      "Day =  3\n",
      "24-02-24 13:45:02-WARNING-simulation time 5.0 s\n",
      "comm_rate =  1\n",
      "nP =  70   nV =  9   comm_rate =  1   reward= 530.1152\n",
      "Day =  4\n",
      "24-02-24 13:45:14-WARNING-simulation time 4.0 s\n",
      "comm_rate =  1.0\n",
      "nP =  74   nV =  1   comm_rate =  1.0   reward= 113.8528\n",
      "Day =  5\n",
      "24-02-24 13:45:26-WARNING-simulation time 4.5 s\n",
      "comm_rate =  0.95\n",
      "nP =  52   nV =  9   comm_rate =  0.95   reward= 432.5756\n",
      "Day =  6\n",
      "24-02-24 13:45:39-WARNING-simulation time 5.1 s\n",
      "comm_rate =  1\n",
      "nP =  67   nV =  9   comm_rate =  1   reward= 554.6723999999999\n",
      "Day =  7\n",
      "24-02-24 13:45:52-WARNING-simulation time 4.5 s\n",
      "comm_rate =  0.95\n",
      "nP =  69   nV =  4   comm_rate =  0.95   reward= 373.3932\n",
      "Day =  8\n",
      "24-02-24 13:46:05-WARNING-simulation time 5.4 s\n",
      "comm_rate =  1\n",
      "nP =  57   nV =  10   comm_rate =  1   reward= 475.49519999999995\n",
      "Day =  9\n",
      "24-02-24 13:46:19-WARNING-simulation time 6.3 s\n",
      "comm_rate =  1\n",
      "nP =  69   nV =  8   comm_rate =  1   reward= 544.8263999999999\n"
     ]
    }
   ],
   "source": [
    "# sim = MaaSSim.simulators.simulate(params=params, f_driver_out=S_driver_opt_out,f_trav_out=dummy_False,\n",
    "#                                   kpi_veh=d2d_kpi_veh,kpi_pax=d2d_kpi_pax, logger_level=logging.WARNING)\n",
    "\n",
    "sim, agent_new = MaaSSim.simulators.simulate_RL_main(input_agent=None,params=params, f_driver_out=S_driver_opt_out,f_trav_out=S_traveller_opt_out,\n",
    "                                  kpi_veh=d2d_kpi_veh,kpi_pax=d2d_kpi_pax, logger_level=logging.WARNING)"
   ]
  },
  {
   "cell_type": "code",
   "execution_count": 31,
   "id": "fb1b1cba-1859-4f5d-970a-f759803315da",
   "metadata": {},
   "outputs": [
    {
     "name": "stdout",
     "output_type": "stream",
     "text": [
      "nan\n",
      "8.070434285714285\n",
      "7.977320987654321\n",
      "8.254708888888889\n",
      "6.583648101265823\n",
      "7.958595\n",
      "8.534384905660378\n",
      "6.252784\n",
      "8.136392452830188\n",
      "6.219230952380952\n"
     ]
    }
   ],
   "source": [
    "for day in range(0,10):\n",
    "    x = sim.res[day].pax_exp.plat_revenue.sum()/sim.res[day].pax_exp.OUT.value_counts().get(False, 0)\n",
    "    print(x)"
   ]
  },
  {
   "cell_type": "code",
   "execution_count": 35,
   "id": "c1758661-56d1-499f-bfa3-abff9da85f80",
   "metadata": {},
   "outputs": [
    {
     "name": "stdout",
     "output_type": "stream",
     "text": [
      "1.66993096\n",
      "1.66993096\n",
      "1.66993096\n",
      "1.66993096\n",
      "1.66993096\n"
     ]
    },
    {
     "ename": "KeyError",
     "evalue": "5",
     "output_type": "error",
     "traceback": [
      "\u001b[1;31m---------------------------------------------------------------------------\u001b[0m",
      "\u001b[1;31mKeyError\u001b[0m                                  Traceback (most recent call last)",
      "\u001b[1;32m~\\AppData\\Local\\Temp/ipykernel_26216/1207868749.py\u001b[0m in \u001b[0;36m<module>\u001b[1;34m\u001b[0m\n\u001b[0;32m      1\u001b[0m \u001b[1;32mfor\u001b[0m \u001b[0mday\u001b[0m \u001b[1;32min\u001b[0m \u001b[0mrange\u001b[0m\u001b[1;33m(\u001b[0m\u001b[1;36m0\u001b[0m\u001b[1;33m,\u001b[0m\u001b[1;36m10\u001b[0m\u001b[1;33m)\u001b[0m\u001b[1;33m:\u001b[0m\u001b[1;33m\u001b[0m\u001b[1;33m\u001b[0m\u001b[0m\n\u001b[1;32m----> 2\u001b[1;33m     \u001b[0mx\u001b[0m \u001b[1;33m=\u001b[0m \u001b[0msim\u001b[0m\u001b[1;33m.\u001b[0m\u001b[0mres\u001b[0m\u001b[1;33m[\u001b[0m\u001b[0mday\u001b[0m\u001b[1;33m]\u001b[0m\u001b[1;33m.\u001b[0m\u001b[0mpax_exp\u001b[0m\u001b[1;33m.\u001b[0m\u001b[0mplat_revenue\u001b[0m\u001b[1;33m.\u001b[0m\u001b[0msum\u001b[0m\u001b[1;33m(\u001b[0m\u001b[1;33m)\u001b[0m\u001b[1;33m/\u001b[0m\u001b[0msim\u001b[0m\u001b[1;33m.\u001b[0m\u001b[0mres\u001b[0m\u001b[1;33m[\u001b[0m\u001b[0mday\u001b[0m\u001b[1;33m]\u001b[0m\u001b[1;33m.\u001b[0m\u001b[0mpax_exp\u001b[0m\u001b[1;33m.\u001b[0m\u001b[0mOUT\u001b[0m\u001b[1;33m.\u001b[0m\u001b[0mvalue_counts\u001b[0m\u001b[1;33m(\u001b[0m\u001b[1;33m)\u001b[0m\u001b[1;33m.\u001b[0m\u001b[0mget\u001b[0m\u001b[1;33m(\u001b[0m\u001b[1;32mFalse\u001b[0m\u001b[1;33m,\u001b[0m \u001b[1;36m0\u001b[0m\u001b[1;33m)\u001b[0m\u001b[1;33m\u001b[0m\u001b[1;33m\u001b[0m\u001b[0m\n\u001b[0m\u001b[0;32m      3\u001b[0m     \u001b[0mprint\u001b[0m\u001b[1;33m(\u001b[0m\u001b[0mx\u001b[0m\u001b[1;33m)\u001b[0m\u001b[1;33m\u001b[0m\u001b[1;33m\u001b[0m\u001b[0m\n",
      "\u001b[1;31mKeyError\u001b[0m: 5"
     ]
    }
   ],
   "source": [
    "for day in range(0,10):\n",
    "    x = sim.res[day].pax_exp.plat_revenue.sum()/sim.res[day].pax_exp.OUT.value_counts().get(False, 0)\n",
    "    print(x)"
   ]
  },
  {
   "cell_type": "code",
   "execution_count": 39,
   "id": "afe8dee0-806a-4d8f-b87a-0ac943313b71",
   "metadata": {},
   "outputs": [
    {
     "name": "stdout",
     "output_type": "stream",
     "text": [
      "nan\n",
      "7.250563636363636\n",
      "6.185456603773585\n",
      "7.573074285714285\n",
      "1.5385513513513513\n",
      "8.318761538461539\n",
      "8.278692537313432\n",
      "5.411495652173913\n",
      "8.342021052631578\n",
      "7.8960347826086945\n"
     ]
    }
   ],
   "source": [
    "for day in range(0,10):\n",
    "    x = sim.res[day].pax_exp.plat_revenue.sum()/sim.res[day].pax_exp.OUT.value_counts().get(False, 0)\n",
    "    print(x)"
   ]
  },
  {
   "cell_type": "code",
   "execution_count": 25,
   "id": "86af2921-8d95-4236-9778-95e004416003",
   "metadata": {},
   "outputs": [
    {
     "data": {
      "text/plain": [
       "161"
      ]
     },
     "execution_count": 25,
     "metadata": {},
     "output_type": "execute_result"
    }
   ],
   "source": [
    "sim.res[1].pax_exp.OUT.value_counts().get(False, 0)"
   ]
  },
  {
   "cell_type": "code",
   "execution_count": 33,
   "id": "ddd9de31-e40a-4f9e-a7a5-96bcd2fa3129",
   "metadata": {},
   "outputs": [],
   "source": [
    "params.nD = len(sim.res)\n",
    "\n",
    "df_s = pd.DataFrame()\n",
    "df_d = pd.DataFrame()\n",
    "\n",
    "for d in range(0,params.nD):\n",
    "    \n",
    "    pax_exp = sim.res[d].pax_exp\n",
    "    df_d.at[d, 'EXPERIENCE_U'] = pax_exp.EXPERIENCE_U.mean()\n",
    "    df_d.at[d, 'WOM_U'] = pax_exp.WOM_U.mean()\n",
    "    df_d.at[d, 'MARKETING_U'] = pax_exp.MARKETING_U.mean()\n",
    "    df_d.at[d, 'OUT'] = pax_exp.OUT.value_counts().get(False, 0)\n",
    "    \n",
    "    veh_exp = sim.res[d].veh_exp\n",
    "    df_s.at[d, 'EXPERIENCE_U'] = veh_exp.EXPERIENCE_U.mean()\n",
    "    df_s.at[d, 'WOM_U'] = veh_exp.WOM_U.mean()\n",
    "    df_s.at[d, 'MARKETING_U'] = veh_exp.MARKETING_U.mean()\n",
    "    df_s.at[d, 'OUT'] = veh_exp.OUT.value_counts().get(False, 0)\n",
    "    \n",
    "    \n",
    "    ld = sim.res[0].pax_exp.columns.values.tolist()\n",
    "    ldn = [i for i in ld if i not in ['EXPERIENCE_U', 'WOM_U', 'MARKETING_U', 'OUT']]\n",
    "    for col in ldn:\n",
    "        df_d.at[d, col] = pax_exp[pax_exp.OUT==False][col].mean()\n",
    "        \n",
    "    ls = sim.res[0].veh_exp.columns.values.tolist()\n",
    "    lsn = [i for i in ls if i not in ['EXPERIENCE_U', 'WOM_U', 'MARKETING_U', 'OUT']]\n",
    "    for col in lsn:\n",
    "        df_s.at[d, col] = veh_exp[veh_exp.OUT==False][col].mean()\n",
    "\n",
    "\n",
    "run_id = 1 # input\n",
    "df_d.to_csv('csv/demand_run_{}.csv'.format(run_id))\n",
    "df_s.to_csv('csv/supply_run_{}.csv'.format(run_id))\n",
    "sim.RL.to_csv('csv/rl_run_{}.csv'.format(run_id))"
   ]
  },
  {
   "cell_type": "code",
   "execution_count": null,
   "id": "cdabeab5-da37-440c-b353-08e60cd50be5",
   "metadata": {},
   "outputs": [],
   "source": []
  },
  {
   "cell_type": "code",
   "execution_count": 43,
   "id": "89e807e1-c970-4abc-a987-a95691bc2d1d",
   "metadata": {},
   "outputs": [
    {
     "data": {
      "text/plain": [
       "0.0009110511944006454"
      ]
     },
     "execution_count": 43,
     "metadata": {},
     "output_type": "execute_result"
    }
   ],
   "source": [
    "import math\n",
    "working_U = -0.5\n",
    "not_working_U = 0.5\n",
    "params.d2d.m = 7\n",
    "\n",
    "(math.exp(params.d2d.m*working_U))/(math.exp(params.d2d.m*working_U) + math.exp(params.d2d.m*not_working_U))"
   ]
  },
  {
   "cell_type": "code",
   "execution_count": null,
   "id": "7c74b5bb-500e-46eb-95f3-325ea93c0c85",
   "metadata": {},
   "outputs": [
    {
     "data": {
      "text/plain": [
       "15.17163600424871"
      ]
     },
     "execution_count": 29,
     "metadata": {},
     "output_type": "execute_result"
    }
   ],
   "source": [
    "200*0.07585818002124355"
   ]
  }
 ],
 "metadata": {
  "kernelspec": {
   "display_name": "Python 3 (ipykernel)",
   "language": "python",
   "name": "python3"
  },
  "language_info": {
   "codemirror_mode": {
    "name": "ipython",
    "version": 3
   },
   "file_extension": ".py",
   "mimetype": "text/x-python",
   "name": "python",
   "nbconvert_exporter": "python",
   "pygments_lexer": "ipython3",
   "version": "3.9.7"
  }
 },
 "nbformat": 4,
 "nbformat_minor": 5
}
