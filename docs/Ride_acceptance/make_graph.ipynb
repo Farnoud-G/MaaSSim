{
 "cells": [
  {
   "cell_type": "code",
   "execution_count": 16,
   "id": "b40dbc71-b069-4aa8-881b-ec39d094043e",
   "metadata": {},
   "outputs": [],
   "source": [
    "import os, sys # add MaaSSim to path (not needed if MaaSSim is already in path)\n",
    "module_path = os.path.abspath(os.path.join('../..'))\n",
    "if module_path not in sys.path:\n",
    "    sys.path.append(module_path)\n",
    "import MaaSSim"
   ]
  },
  {
   "cell_type": "code",
   "execution_count": 17,
   "id": "1a1cee4a-80f2-4bff-bd1a-d97c75e77fe6",
   "metadata": {},
   "outputs": [],
   "source": [
    "#!pip install MaaSSim\n",
    "import MaaSSim.utils\n",
    "import logging\n",
    "from dotmap import DotMap\n",
    "import MaaSSim.simulators\n",
    "from MaaSSim.data_structures import structures as inData"
   ]
  },
  {
   "cell_type": "code",
   "execution_count": 18,
   "id": "3b567df2-e158-4268-9b22-5a1828372663",
   "metadata": {},
   "outputs": [],
   "source": [
    "import osmnx as ox\n",
    "import networkx as nx\n",
    "import random\n",
    "import pandas as pd\n",
    "import matplotlib.pyplot as plt          \n",
    "import numpy as np\n",
    "import seaborn as sns"
   ]
  },
  {
   "cell_type": "code",
   "execution_count": 6,
   "id": "b7b2213c-594a-4f76-b32c-b42a280fc2a4",
   "metadata": {},
   "outputs": [
    {
     "name": "stdout",
     "output_type": "stream",
     "text": [
      "Downloading network for Sora, Italy witn osmnx\n",
      "Graph is saved to '...MaaSSim/data/graphs'\n"
     ]
    }
   ],
   "source": [
    "# change the city name and run\n",
    "\n",
    "params = MaaSSim.utils.get_config('glance.json') \n",
    "params.city = 'Sora, Italy'\n",
    "MaaSSim.utils.make_config_paths(params, main=None, rel = False)\n",
    "inData = MaaSSim.utils.download_G(inData, params)\n",
    "MaaSSim.utils.save_G(inData, params)\n",
    "print(\"Graph is saved to '...MaaSSim/data/graphs'\")"
   ]
  },
  {
   "cell_type": "code",
   "execution_count": 2,
   "id": "e181b0c0-671e-45a5-a474-a0155efc1755",
   "metadata": {},
   "outputs": [],
   "source": [
    "import math"
   ]
  },
  {
   "cell_type": "code",
   "execution_count": 15,
   "id": "19c518fe-9035-44bf-8375-544a578cc717",
   "metadata": {},
   "outputs": [
    {
     "data": {
      "text/plain": [
       "4"
      ]
     },
     "execution_count": 15,
     "metadata": {},
     "output_type": "execute_result"
    }
   ],
   "source": [
    "max_ds = 15.4\n",
    "ds= 19\n",
    "math.ceil((3/(max_ds-1))*ds - (3/(max_ds-1)))"
   ]
  },
  {
   "cell_type": "code",
   "execution_count": 24,
   "id": "cdd72686-c704-416e-bebe-9650be1a1e77",
   "metadata": {},
   "outputs": [
    {
     "data": {
      "text/html": [
       "<div>\n",
       "<style scoped>\n",
       "    .dataframe tbody tr th:only-of-type {\n",
       "        vertical-align: middle;\n",
       "    }\n",
       "\n",
       "    .dataframe tbody tr th {\n",
       "        vertical-align: top;\n",
       "    }\n",
       "\n",
       "    .dataframe thead th {\n",
       "        text-align: right;\n",
       "    }\n",
       "</style>\n",
       "<table border=\"1\" class=\"dataframe\">\n",
       "  <thead>\n",
       "    <tr style=\"text-align: right;\">\n",
       "      <th></th>\n",
       "      <th>surge = 0</th>\n",
       "      <th>surge = 1</th>\n",
       "      <th>surge = 2</th>\n",
       "      <th>surge = 3</th>\n",
       "    </tr>\n",
       "    <tr>\n",
       "      <th>veh_id</th>\n",
       "      <th></th>\n",
       "      <th></th>\n",
       "      <th></th>\n",
       "      <th></th>\n",
       "    </tr>\n",
       "  </thead>\n",
       "  <tbody>\n",
       "    <tr>\n",
       "      <th>1</th>\n",
       "      <td>2</td>\n",
       "      <td>NaN</td>\n",
       "      <td>NaN</td>\n",
       "      <td>NaN</td>\n",
       "    </tr>\n",
       "    <tr>\n",
       "      <th>2</th>\n",
       "      <td>4</td>\n",
       "      <td>NaN</td>\n",
       "      <td>NaN</td>\n",
       "      <td>NaN</td>\n",
       "    </tr>\n",
       "    <tr>\n",
       "      <th>3</th>\n",
       "      <td>6</td>\n",
       "      <td>NaN</td>\n",
       "      <td>NaN</td>\n",
       "      <td>NaN</td>\n",
       "    </tr>\n",
       "    <tr>\n",
       "      <th>4</th>\n",
       "      <td>8</td>\n",
       "      <td>NaN</td>\n",
       "      <td>NaN</td>\n",
       "      <td>NaN</td>\n",
       "    </tr>\n",
       "  </tbody>\n",
       "</table>\n",
       "</div>"
      ],
      "text/plain": [
       "        surge = 0 surge = 1 surge = 2 surge = 3\n",
       "veh_id                                         \n",
       "1               2       NaN       NaN       NaN\n",
       "2               4       NaN       NaN       NaN\n",
       "3               6       NaN       NaN       NaN\n",
       "4               8       NaN       NaN       NaN"
      ]
     },
     "execution_count": 24,
     "metadata": {},
     "output_type": "execute_result"
    }
   ],
   "source": [
    "surge_table = pd.DataFrame(columns=['veh_id', 'surge = 0', 'surge = 1', 'surge = 2', 'surge = 3'])\n",
    "surge_table.veh_id = [i for i in range(1,5)]\n",
    "surge_table.set_index('veh_id', inplace=True)\n",
    "\n",
    "for fee in range(0,3+1):\n",
    "    surge_table['surge = 0'] = surge_table.apply(lambda row: sim.vehs[row.name].surge_fees.count(fee)\n",
    "                                                 , axis=1)\n",
    "surge_table"
   ]
  },
  {
   "cell_type": "code",
   "execution_count": 29,
   "id": "7f8f7b43-c72f-45b2-8b29-7018c7464e42",
   "metadata": {},
   "outputs": [
    {
     "data": {
      "text/html": [
       "<div>\n",
       "<style scoped>\n",
       "    .dataframe tbody tr th:only-of-type {\n",
       "        vertical-align: middle;\n",
       "    }\n",
       "\n",
       "    .dataframe tbody tr th {\n",
       "        vertical-align: top;\n",
       "    }\n",
       "\n",
       "    .dataframe thead th {\n",
       "        text-align: right;\n",
       "    }\n",
       "</style>\n",
       "<table border=\"1\" class=\"dataframe\">\n",
       "  <thead>\n",
       "    <tr style=\"text-align: right;\">\n",
       "      <th></th>\n",
       "      <th>surge = 0</th>\n",
       "      <th>surge = 1</th>\n",
       "      <th>surge = 2</th>\n",
       "      <th>surge = 3</th>\n",
       "    </tr>\n",
       "    <tr>\n",
       "      <th>veh_id</th>\n",
       "      <th></th>\n",
       "      <th></th>\n",
       "      <th></th>\n",
       "      <th></th>\n",
       "    </tr>\n",
       "  </thead>\n",
       "  <tbody>\n",
       "    <tr>\n",
       "      <th>1</th>\n",
       "      <td>1</td>\n",
       "      <td>NaN</td>\n",
       "      <td>NaN</td>\n",
       "      <td>1</td>\n",
       "    </tr>\n",
       "    <tr>\n",
       "      <th>2</th>\n",
       "      <td>2</td>\n",
       "      <td>NaN</td>\n",
       "      <td>NaN</td>\n",
       "      <td>2</td>\n",
       "    </tr>\n",
       "    <tr>\n",
       "      <th>3</th>\n",
       "      <td>3</td>\n",
       "      <td>NaN</td>\n",
       "      <td>NaN</td>\n",
       "      <td>3</td>\n",
       "    </tr>\n",
       "    <tr>\n",
       "      <th>4</th>\n",
       "      <td>4</td>\n",
       "      <td>NaN</td>\n",
       "      <td>NaN</td>\n",
       "      <td>4</td>\n",
       "    </tr>\n",
       "  </tbody>\n",
       "</table>\n",
       "</div>"
      ],
      "text/plain": [
       "        surge = 0 surge = 1 surge = 2  surge = 3\n",
       "veh_id                                          \n",
       "1               1       NaN       NaN          1\n",
       "2               2       NaN       NaN          2\n",
       "3               3       NaN       NaN          3\n",
       "4               4       NaN       NaN          4"
      ]
     },
     "execution_count": 29,
     "metadata": {},
     "output_type": "execute_result"
    }
   ],
   "source": [
    "surge_table['surge = {}'.format(3)] = surge_table.apply(lambda row: row.name\n",
    "                                             , axis=1)\n",
    "\n",
    "surge_table"
   ]
  },
  {
   "cell_type": "code",
   "execution_count": null,
   "id": "eff4f06e-d6d8-4a44-aca0-658ca84afb0d",
   "metadata": {},
   "outputs": [],
   "source": []
  }
 ],
 "metadata": {
  "kernelspec": {
   "display_name": "Python 3 (ipykernel)",
   "language": "python",
   "name": "python3"
  },
  "language_info": {
   "codemirror_mode": {
    "name": "ipython",
    "version": 3
   },
   "file_extension": ".py",
   "mimetype": "text/x-python",
   "name": "python",
   "nbconvert_exporter": "python",
   "pygments_lexer": "ipython3",
   "version": "3.9.7"
  }
 },
 "nbformat": 4,
 "nbformat_minor": 5
}
